{
 "cells": [
  {
   "cell_type": "code",
   "execution_count": 1,
   "metadata": {},
   "outputs": [],
   "source": [
    "from time import sleep\n",
    "from random import random\n",
    "import pandas as pd\n",
    "import requests\n",
    "from tqdm.notebook import tqdm\n",
    "from bs4 import BeautifulSoup\n",
    "from urllib.parse import urljoin\n",
    "import urllib.parse as urlparse\n",
    "from urllib.parse import parse_qs"
   ]
  },
  {
   "cell_type": "code",
   "execution_count": 2,
   "metadata": {},
   "outputs": [],
   "source": [
    "# Constants\n",
    "BASE_URL = 'https://www.flipkart.com/'\n",
    "SEARCH_QUERY = \"books\"\n",
    "TOP_N_PRODUCTS = 10\n",
    "REVIEW_PAGES_TO_SCRAPE_FROM_PER_PRODUCT = 2000 #10 Reviews exist per page"
   ]
  },
  {
   "cell_type": "code",
   "execution_count": 3,
   "metadata": {},
   "outputs": [
    {
     "name": "stdout",
     "output_type": "stream",
     "text": [
      "<!DOCTYPE html>\n",
      "<html lang=\"en\">\n",
      " <head>\n",
      "  <link href=\"https://rukminim1.flixcart.com\" rel=\"preconnect\"/>\n",
      "  <link href=\"//static-assets-web.flixcart.com/www/linchpin/fk-cp-zion/css/app.chunk.2bdc3d.css\" rel=\"stylesheet\"/>\n",
      "  <meta content=\"text/html; charset=utf-8\" http-equiv=\"Content-type\"/>\n",
      "  <meta content=\"IE=Edge\" http-equiv=\"X-UA-Compatible\"/>\n",
      "  <meta content=\"102988293558\" property=\"fb:page_id\"/>\n",
      "  <meta content=\"658873552,624500995,100000233612389\" property=\"fb:admins\"/>\n",
      "  <meta content=\"n\n"
     ]
    }
   ],
   "source": [
    "SAMPLE_URL = \"https://www.flipkart.com/boat-rockerz-255f-bluetooth-headset/product-reviews/itmd35e57aca99fb?pid=ACCF6SZ8EFWFEPZ6&lid=LSTACCF6SZ8EFWFEPZ6M21QA4&sortOrder=MOST_HELPFUL&certifiedBuyer=false&aid=overall\"\n",
    "r = requests.get(SAMPLE_URL)    \n",
    "soup = BeautifulSoup(r.content, 'html.parser') \n",
    "print(soup.prettify()[:500])"
   ]
  },
  {
   "cell_type": "code",
   "execution_count": 6,
   "metadata": {},
   "outputs": [
    {
     "name": "stdout",
     "output_type": "stream",
     "text": [
      "Count of rows(reviews):10\n",
      "\n",
      "\n",
      "\n",
      "rating:5 \n",
      "\n",
      "\n",
      "summary:Best in the market! \n",
      "\n",
      "\n",
      "review:Amazing sound quality with boosted Bass. But if your r listing music on YouTube then might the sound quality may not that good as u experience on Gaana aap or related music app or music that you have download on your cell phone. Don't worry for that it only differ slightly i.e. unpredictable. Overall you will get owsm sound and bass experiences. Coming to the battery backup it is up to 6hrs + and charges quickly for urgent work.The build quality is good and has a magnetic end that don't work... \n",
      "\n",
      "\n",
      "location:Gaya \n",
      "\n",
      "\n",
      "date:Jun, 2020 \n",
      "\n",
      "\n",
      "upvotes:2596 \n",
      "\n",
      "\n",
      "downvotes:397 \n",
      "\n",
      "\n"
     ]
    }
   ],
   "source": [
    "# Extracting all review blocks\n",
    "## Note col._2wzgFH.K0kLPL means 3 entities namely 'col', ' _2wzgFH' and 'K0kLPL' \n",
    "## This is written in HTML as 'col _2wzgFH K0kLPL'\n",
    "## This can also be seen in Bullet 3\n",
    "\n",
    "rows = soup.find_all('div',attrs={'class':'col _2wzgFH K0kLPL'})\n",
    "print(f\"Count of rows(reviews):{len(rows)}\\n\\n\\n\")\n",
    "# iteration over all blocks\n",
    "for row in rows:\n",
    "    # Print a sample row(review html block)\n",
    "    # print(f\"row:\\n{row} \\n\\n\")\n",
    "    \n",
    "    # finding all rows within the block\n",
    "    sub_row = row.find_all('div',attrs={'class':'row'})\n",
    "        \n",
    "    # extracting text from 1st and 2nd row\n",
    "    rating = sub_row[0].find('div').text\n",
    "    print(f\"rating:{rating} \\n\\n\")\n",
    "    \n",
    "    summary = sub_row[0].find('p').text\n",
    "    print(f\"summary:{summary} \\n\\n\")\n",
    "    \n",
    "    review = sub_row[1].find_all('div')[2].text\n",
    "    print(f\"review:{review} \\n\\n\")\n",
    "    \n",
    "    location = sub_row[3].find('p',attrs={'class':'_2mcZGG'}).find_all('span')[1].text\n",
    "    location = \"\".join(location.split(\",\")[1:]).strip()\n",
    "    print(f\"location:{location} \\n\\n\")\n",
    "    \n",
    "    date = sub_row[3].find_all('p',attrs={'class':'_2sc7ZR'})[1].text\n",
    "    print(f\"date:{date} \\n\\n\")\n",
    "    \n",
    "    \n",
    "    sub_row_2 = row.find_all('div',attrs={'class':'_1e9_Zu'})[0].find_all('span',attrs={'class':'_3c3Px5'})\n",
    "    \n",
    "    upvotes = sub_row_2[0].text\n",
    "    print(f\"upvotes:{upvotes} \\n\\n\")\n",
    "    \n",
    "    downvotes = sub_row_2[1].text\n",
    "    print(f\"downvotes:{downvotes} \\n\\n\")\n",
    "    \n",
    "    break"
   ]
  },
  {
   "cell_type": "code",
   "execution_count": null,
   "metadata": {},
   "outputs": [],
   "source": []
  },
  {
   "cell_type": "code",
   "execution_count": 5,
   "metadata": {},
   "outputs": [],
   "source": [
    "## Website Links"
   ]
  },
  {
   "cell_type": "code",
   "execution_count": 6,
   "metadata": {},
   "outputs": [],
   "source": [
    "link = ['https://www.flipkart.com/five-point-someone-not-do-iit/product-reviews/itmffugyyxyszfyn?pid=9788129135490&lid=LSTBOK9788129135490OPMQY4&marketplace=FLIPKART',\n",
    "        'https://www.flipkart.com/one-night-call-centre/product-reviews/itm35f1b52eb53e9?pid=9788129135506&lid=LSTBOK9788129135506OXUV39&marketplace=FLIPKART',\n",
    "        'https://www.flipkart.com/3-mistakes-my-life/product-reviews/itmf0a18d6b138e8?pid=9788129135513&lid=LSTBOK9788129135513L0JG94&marketplace=FLIPKART',\n",
    "        'https://www.flipkart.com/2-states/product-reviews/itmffugyxzh2bajb?pid=9788129115300&lid=LSTBOK9788129115300VXJ1XR&marketplace=FLIPKART',\n",
    "        'https://www.flipkart.com/half-girlfriend/product-reviews/itmffugy6f7yvcdt?pid=9789551718114&lid=LSTBOK97895517181145ZWBZW&marketplace=FLIPKART',\n",
    "        'https://www.flipkart.com/half-girlfriend/product-reviews/itm309299e5fd828?pid=9788129124029&lid=LSTBOK9788129124029N6KB0G&marketplace=FLIPKART',\n",
    "        'https://www.flipkart.com/one-indian-girl/product-reviews/itm97bff2ed4a5b2?pid=9788129142146&lid=LSTBOK9788129142146N3YMFX&marketplace=FLIPKART',\n",
    "        'https://www.flipkart.com/girl-room-105/product-reviews/itm162e2372adf06?pid=9781542040464&lid=LSTBOK9781542040464SHRSPR&marketplace=FLIPKART',\n",
    "        'https://www.flipkart.com/one-arranged-murder/product-reviews/itmb4cd0197e98ce?pid=9781542094139&lid=LSTBOK9781542094139A5FY6R&marketplace=FLIPKART'\n",
    "       ]"
   ]
  },
  {
   "cell_type": "code",
   "execution_count": 7,
   "metadata": {},
   "outputs": [],
   "source": [
    "## Web Scraping from Flipkart"
   ]
  },
  {
   "cell_type": "code",
   "execution_count": null,
   "metadata": {},
   "outputs": [],
   "source": [
    "# DS-1"
   ]
  },
  {
   "cell_type": "code",
   "execution_count": 11,
   "metadata": {},
   "outputs": [],
   "source": [
    "link = ['https://www.flipkart.com/five-point-someone-not-do-iit/product-reviews/itmffugyyxyszfyn?pid=9788129135490&lid=LSTBOK9788129135490OPMQY4&marketplace=FLIPKART']"
   ]
  },
  {
   "cell_type": "code",
   "execution_count": null,
   "metadata": {},
   "outputs": [],
   "source": [
    "dataset_1 = []\n",
    "\n",
    "for idx, url in enumerate(tqdm(link, desc='products')):\n",
    "    # iterating over review pages\n",
    "    for i in tqdm(range(1,REVIEW_PAGES_TO_SCRAPE_FROM_PER_PRODUCT+1), desc=\"review pages\", position=0, leave=False):\n",
    "        parsed = urlparse.urlparse(url)\n",
    "        pid = parse_qs(parsed.query)['pid'][0]\n",
    "        URL = f\"{url}&page={i}\"\n",
    "        \n",
    "        r = requests.get(URL)\n",
    "        \n",
    "        # Pause the loop for 0-1 seconds to simulate natural setting not overwhelm the server with back to back requests without any pause\n",
    "        sleep(random())\n",
    "        soup = BeautifulSoup(r.content, 'html.parser') \n",
    "        \n",
    "        rows = soup.find_all('div',attrs={'class':'col _2wzgFH K0kLPL'})\n",
    "\n",
    "        for row in rows:\n",
    "\n",
    "            # finding all rows within the block\n",
    "            sub_row = row.find_all('div',attrs={'class':'row'})\n",
    "\n",
    "            # extracting text from 1st 2nd and 4th row\n",
    "            rating = sub_row[0].find('div').text\n",
    "            \n",
    "            summary = sub_row[0].find('p').text\n",
    "            summary = summary.strip()\n",
    "            \n",
    "            review = sub_row[1].find_all('div')[2].text\n",
    "            review = review.strip()\n",
    "\n",
    "            # appending to data\n",
    "            dataset_1.append({'product_id':pid, 'rating': rating, 'summary': summary, 'review': review})"
   ]
  },
  {
   "cell_type": "code",
   "execution_count": 13,
   "metadata": {},
   "outputs": [
    {
     "data": {
      "text/html": [
       "<div>\n",
       "<style scoped>\n",
       "    .dataframe tbody tr th:only-of-type {\n",
       "        vertical-align: middle;\n",
       "    }\n",
       "\n",
       "    .dataframe tbody tr th {\n",
       "        vertical-align: top;\n",
       "    }\n",
       "\n",
       "    .dataframe thead th {\n",
       "        text-align: right;\n",
       "    }\n",
       "</style>\n",
       "<table border=\"1\" class=\"dataframe\">\n",
       "  <thead>\n",
       "    <tr style=\"text-align: right;\">\n",
       "      <th></th>\n",
       "      <th>product_id</th>\n",
       "      <th>rating</th>\n",
       "      <th>summary</th>\n",
       "      <th>review</th>\n",
       "    </tr>\n",
       "  </thead>\n",
       "  <tbody>\n",
       "    <tr>\n",
       "      <th>0</th>\n",
       "      <td>9788129135490</td>\n",
       "      <td>2</td>\n",
       "      <td>Dime novel through and through</td>\n",
       "      <td>I first read it a good six years ago and had loved it. I still like it. It is no literary masterpiece and it would be wrong to compare it with one. It is a dime novel and a good one. It offers a good, quick read - it is a page turner and keeps you hooked till the end. Good pieces of literature linger with you even when you have read the last word. This is not one of them. It does not leave any lingering impressions. You do feel a little good and warm when you reach the end. If you have to wh...</td>\n",
       "    </tr>\n",
       "    <tr>\n",
       "      <th>1</th>\n",
       "      <td>9788129135490</td>\n",
       "      <td>5</td>\n",
       "      <td>I WOULD LOVE TO READ IT AGAIN AND AGAIN AS IT REMINDS ME ABOUT MY COLLEGE DAYS</td>\n",
       "      <td>ACTUALLY I READ THE BOOK WHEN IT WAS RELEASED FIRST AND I REPEAT IT TO REGAIN MY COLLEGE DAYS MEMORIES AND IT IS TRUE STORY FOR EVERY STUDENT LIKE ME WHO HAD DONE OR DOING ENGINEERING AS WE EXPERIENCED THE SAME ............I LOST MY COPY OF THIS BOOK SO WHEN I SAWED THIS ON YOUR SITE AT REASONABLE RATE  SO I ORDERED IT..........I THANK U FOR MAKING ME HAPPY BY PROVIDING THIS.........AND I REALLY THANK U FOR THE FAST DELIVERY...........</td>\n",
       "    </tr>\n",
       "    <tr>\n",
       "      <th>2</th>\n",
       "      <td>9788129135490</td>\n",
       "      <td>5</td>\n",
       "      <td>Brilliant</td>\n",
       "      <td>Absolutely the top of the shelf. 3 Idiots, the movie based on the book, despite all the money it made, was not a patch on the book. Sincere, honest, witty and poignant at the same time, the boo will assure Chetan Bhagat a place in Indian literary history. read it if you have not done so already.</td>\n",
       "    </tr>\n",
       "    <tr>\n",
       "      <th>3</th>\n",
       "      <td>9788129135490</td>\n",
       "      <td>3</td>\n",
       "      <td>3 idiots better than the book!!!</td>\n",
       "      <td>This is a great book for IITans.THe book has a message on it's own while 3 idiots is better than the book.Things that Raj Kumar Hirani has changed in his movie:-Ryan=Rancho,Alok=Raju,Hari=Farhan,Neha=Priya,Virus=Prof. Cherian,Chatur=Venkat(Who plays a minor role).1.Farhan is in love with Priya not Rancho.2.Alok wants to become an artist,While in the movie Farhan wants to and becomes a photographer.3.The thing that Rancho is Phunsukh Wangdu is not at all mentioned in the book.Not only ...</td>\n",
       "    </tr>\n",
       "    <tr>\n",
       "      <th>4</th>\n",
       "      <td>9788129135490</td>\n",
       "      <td>5</td>\n",
       "      <td>Super!</td>\n",
       "      <td>Exceptionally well.The book needs no introduction.This books tells all the naughty and productive things an engineer does in his engineering.A pure combination of comedy, tragedy, love and friendship.The original of 3 Idiots.</td>\n",
       "    </tr>\n",
       "  </tbody>\n",
       "</table>\n",
       "</div>"
      ],
      "text/plain": [
       "      product_id rating  \\\n",
       "0  9788129135490  2       \n",
       "1  9788129135490  5       \n",
       "2  9788129135490  5       \n",
       "3  9788129135490  3       \n",
       "4  9788129135490  5       \n",
       "\n",
       "                                                                          summary  \\\n",
       "0  Dime novel through and through                                                   \n",
       "1  I WOULD LOVE TO READ IT AGAIN AND AGAIN AS IT REMINDS ME ABOUT MY COLLEGE DAYS   \n",
       "2  Brilliant                                                                        \n",
       "3  3 idiots better than the book!!!                                                 \n",
       "4  Super!                                                                           \n",
       "\n",
       "                                                                                                                                                                                                                                                                                                                                                                                                                                                                                                                review  \n",
       "0  I first read it a good six years ago and had loved it. I still like it. It is no literary masterpiece and it would be wrong to compare it with one. It is a dime novel and a good one. It offers a good, quick read - it is a page turner and keeps you hooked till the end. Good pieces of literature linger with you even when you have read the last word. This is not one of them. It does not leave any lingering impressions. You do feel a little good and warm when you reach the end. If you have to wh...  \n",
       "1  ACTUALLY I READ THE BOOK WHEN IT WAS RELEASED FIRST AND I REPEAT IT TO REGAIN MY COLLEGE DAYS MEMORIES AND IT IS TRUE STORY FOR EVERY STUDENT LIKE ME WHO HAD DONE OR DOING ENGINEERING AS WE EXPERIENCED THE SAME ............I LOST MY COPY OF THIS BOOK SO WHEN I SAWED THIS ON YOUR SITE AT REASONABLE RATE  SO I ORDERED IT..........I THANK U FOR MAKING ME HAPPY BY PROVIDING THIS.........AND I REALLY THANK U FOR THE FAST DELIVERY...........                                                              \n",
       "2  Absolutely the top of the shelf. 3 Idiots, the movie based on the book, despite all the money it made, was not a patch on the book. Sincere, honest, witty and poignant at the same time, the boo will assure Chetan Bhagat a place in Indian literary history. read it if you have not done so already.                                                                                                                                                                                                             \n",
       "3  This is a great book for IITans.THe book has a message on it's own while 3 idiots is better than the book.Things that Raj Kumar Hirani has changed in his movie:-Ryan=Rancho,Alok=Raju,Hari=Farhan,Neha=Priya,Virus=Prof. Cherian,Chatur=Venkat(Who plays a minor role).1.Farhan is in love with Priya not Rancho.2.Alok wants to become an artist,While in the movie Farhan wants to and becomes a photographer.3.The thing that Rancho is Phunsukh Wangdu is not at all mentioned in the book.Not only ...         \n",
       "4  Exceptionally well.The book needs no introduction.This books tells all the naughty and productive things an engineer does in his engineering.A pure combination of comedy, tragedy, love and friendship.The original of 3 Idiots.                                                                                                                                                                                                                                                                                    "
      ]
     },
     "metadata": {},
     "output_type": "display_data"
    },
    {
     "data": {
      "text/html": [
       "<div>\n",
       "<style scoped>\n",
       "    .dataframe tbody tr th:only-of-type {\n",
       "        vertical-align: middle;\n",
       "    }\n",
       "\n",
       "    .dataframe tbody tr th {\n",
       "        vertical-align: top;\n",
       "    }\n",
       "\n",
       "    .dataframe thead th {\n",
       "        text-align: right;\n",
       "    }\n",
       "</style>\n",
       "<table border=\"1\" class=\"dataframe\">\n",
       "  <thead>\n",
       "    <tr style=\"text-align: right;\">\n",
       "      <th></th>\n",
       "      <th>product_id</th>\n",
       "      <th>rating</th>\n",
       "      <th>summary</th>\n",
       "      <th>review</th>\n",
       "    </tr>\n",
       "  </thead>\n",
       "  <tbody>\n",
       "    <tr>\n",
       "      <th>592</th>\n",
       "      <td>9788129135490</td>\n",
       "      <td>3</td>\n",
       "      <td>Does the job</td>\n",
       "      <td>Not very satisfied not with the product but with the price,with delivery charges there is no point in the discount.It's basically the same as the original price</td>\n",
       "    </tr>\n",
       "    <tr>\n",
       "      <th>593</th>\n",
       "      <td>9788129135490</td>\n",
       "      <td>3</td>\n",
       "      <td>Satisfied...</td>\n",
       "      <td>Quick delivery....within 24 hrs :)</td>\n",
       "    </tr>\n",
       "    <tr>\n",
       "      <th>594</th>\n",
       "      <td>9788129135490</td>\n",
       "      <td>4</td>\n",
       "      <td>good book</td>\n",
       "      <td>great book .but its different from the movie..........................................................................................................................................................</td>\n",
       "    </tr>\n",
       "    <tr>\n",
       "      <th>595</th>\n",
       "      <td>9788129135490</td>\n",
       "      <td>5</td>\n",
       "      <td>good</td>\n",
       "      <td>good delivery service good book everything good!!!!!!!!!!!!!!!!!!!!!!!!!!!!!!!!!!!!!!!!!!!!!!!!!!!!!!!!!!!!!!!!!!!!!!!!!!</td>\n",
       "    </tr>\n",
       "    <tr>\n",
       "      <th>596</th>\n",
       "      <td>9788129135490</td>\n",
       "      <td>5</td>\n",
       "      <td>not started reading...but great delivery with nice condition</td>\n",
       "      <td>I dont need to say anything about the book. As per cover and book condition, i just got the book in 4 days and it is not late as I am living in Cuttack. And condition is great and I dont think u will find any other place with such a good price</td>\n",
       "    </tr>\n",
       "  </tbody>\n",
       "</table>\n",
       "</div>"
      ],
      "text/plain": [
       "        product_id rating  \\\n",
       "592  9788129135490  3       \n",
       "593  9788129135490  3       \n",
       "594  9788129135490  4       \n",
       "595  9788129135490  5       \n",
       "596  9788129135490  5       \n",
       "\n",
       "                                                          summary  \\\n",
       "592  Does the job                                                   \n",
       "593  Satisfied...                                                   \n",
       "594  good book                                                      \n",
       "595  good                                                           \n",
       "596  not started reading...but great delivery with nice condition   \n",
       "\n",
       "                                                                                                                                                                                                                                                  review  \n",
       "592  Not very satisfied not with the product but with the price,with delivery charges there is no point in the discount.It's basically the same as the original price                                                                                     \n",
       "593  Quick delivery....within 24 hrs :)                                                                                                                                                                                                                   \n",
       "594  great book .but its different from the movie..........................................................................................................................................................                                               \n",
       "595  good delivery service good book everything good!!!!!!!!!!!!!!!!!!!!!!!!!!!!!!!!!!!!!!!!!!!!!!!!!!!!!!!!!!!!!!!!!!!!!!!!!!                                                                                                                            \n",
       "596  I dont need to say anything about the book. As per cover and book condition, i just got the book in 4 days and it is not late as I am living in Cuttack. And condition is great and I dont think u will find any other place with such a good price  "
      ]
     },
     "metadata": {},
     "output_type": "display_data"
    }
   ],
   "source": [
    "df = pd.DataFrame(dataset_1)\n",
    "\n",
    "with pd.option_context('display.max_colwidth', -1):\n",
    "    display(df.head(5))\n",
    "    display(df.tail(5))"
   ]
  },
  {
   "cell_type": "code",
   "execution_count": 14,
   "metadata": {},
   "outputs": [],
   "source": [
    "#df.to_csv('/Users/kritya/Desktop/College/SEM 7/Project Phase 1/DS/FYP - FlipBook1.csv')"
   ]
  },
  {
   "cell_type": "code",
   "execution_count": null,
   "metadata": {},
   "outputs": [],
   "source": []
  },
  {
   "cell_type": "code",
   "execution_count": null,
   "metadata": {},
   "outputs": [],
   "source": [
    "# DS-2"
   ]
  },
  {
   "cell_type": "code",
   "execution_count": 7,
   "metadata": {},
   "outputs": [
    {
     "data": {
      "application/vnd.jupyter.widget-view+json": {
       "model_id": "bd8ba25220e84b0395651f2f2cb9d9da",
       "version_major": 2,
       "version_minor": 0
      },
      "text/plain": [
       "HBox(children=(HTML(value='products'), FloatProgress(value=0.0, max=1.0), HTML(value='')))"
      ]
     },
     "metadata": {},
     "output_type": "display_data"
    },
    {
     "data": {
      "application/vnd.jupyter.widget-view+json": {
       "model_id": "",
       "version_major": 2,
       "version_minor": 0
      },
      "text/plain": [
       "HBox(children=(HTML(value='review pages'), FloatProgress(value=0.0, max=2000.0), HTML(value='')))"
      ]
     },
     "metadata": {},
     "output_type": "display_data"
    },
    {
     "name": "stdout",
     "output_type": "stream",
     "text": [
      "\n"
     ]
    }
   ],
   "source": [
    "link = ['https://www.flipkart.com/one-night-call-centre/product-reviews/itm35f1b52eb53e9?pid=9788129135506&lid=LSTBOK9788129135506OXUV39&marketplace=FLIPKART']\n",
    "dataset_2 = []\n",
    "\n",
    "for idx, url in enumerate(tqdm(link, desc='products')):\n",
    "    # iterating over review pages\n",
    "    for i in tqdm(range(1,REVIEW_PAGES_TO_SCRAPE_FROM_PER_PRODUCT+1), desc=\"review pages\", position=0, leave=False):\n",
    "        parsed = urlparse.urlparse(url)\n",
    "        pid = parse_qs(parsed.query)['pid'][0]\n",
    "        URL = f\"{url}&page={i}\"\n",
    "        \n",
    "        r = requests.get(URL)\n",
    "        \n",
    "        # Pause the loop for 0-1 seconds to simulate natural setting not overwhelm the server with back to back requests without any pause\n",
    "        sleep(random())\n",
    "        soup = BeautifulSoup(r.content, 'html.parser') \n",
    "        \n",
    "        rows = soup.find_all('div',attrs={'class':'col _2wzgFH K0kLPL'})\n",
    "\n",
    "        for row in rows:\n",
    "\n",
    "            # finding all rows within the block\n",
    "            sub_row = row.find_all('div',attrs={'class':'row'})\n",
    "\n",
    "            # extracting text from 1st 2nd and 4th row\n",
    "            rating = sub_row[0].find('div').text\n",
    "            \n",
    "            summary = sub_row[0].find('p').text\n",
    "            summary = summary.strip()\n",
    "            \n",
    "            review = sub_row[1].find_all('div')[2].text\n",
    "            review = review.strip()\n",
    "\n",
    "            # appending to data\n",
    "            dataset_2.append({'product_id':pid, 'rating': rating, 'summary': summary, 'review': review})"
   ]
  },
  {
   "cell_type": "code",
   "execution_count": 8,
   "metadata": {},
   "outputs": [
    {
     "data": {
      "text/html": [
       "<div>\n",
       "<style scoped>\n",
       "    .dataframe tbody tr th:only-of-type {\n",
       "        vertical-align: middle;\n",
       "    }\n",
       "\n",
       "    .dataframe tbody tr th {\n",
       "        vertical-align: top;\n",
       "    }\n",
       "\n",
       "    .dataframe thead th {\n",
       "        text-align: right;\n",
       "    }\n",
       "</style>\n",
       "<table border=\"1\" class=\"dataframe\">\n",
       "  <thead>\n",
       "    <tr style=\"text-align: right;\">\n",
       "      <th></th>\n",
       "      <th>product_id</th>\n",
       "      <th>rating</th>\n",
       "      <th>summary</th>\n",
       "      <th>review</th>\n",
       "    </tr>\n",
       "  </thead>\n",
       "  <tbody>\n",
       "    <tr>\n",
       "      <th>0</th>\n",
       "      <td>9788129135506</td>\n",
       "      <td>4</td>\n",
       "      <td>Worth the money</td>\n",
       "      <td>Excellent, same as author i was thinking how a person can write a book on 'call centre'.  not 5 stars bcz i feel there are some gags. overall it's  fabulous. i Love this page where chetan sir talking about their twin whose created by his better half👌 and before reading complete the exercise it's amazing idea.</td>\n",
       "    </tr>\n",
       "    <tr>\n",
       "      <th>1</th>\n",
       "      <td>9788129135506</td>\n",
       "      <td>4</td>\n",
       "      <td>Good quality product</td>\n",
       "      <td>A beautifully knitted plot. Thoroughly enjoyable. This is Chetan Bhagat's undeniable quality. You won't be bored. But to me his work is like a bollywood movie where everything will be fine at the end. Though life does not work like that. His work lacks this. But '2 States' &amp; \"Revolution 20/20' are different.</td>\n",
       "    </tr>\n",
       "    <tr>\n",
       "      <th>2</th>\n",
       "      <td>9788129135506</td>\n",
       "      <td>5</td>\n",
       "      <td>Worth every penny</td>\n",
       "      <td>This is still my favorite book, and the first book i read. Was really well written and good story. Though there are some fiction beyond human things, it is worth the read. Will make you understand life.. Lots of small messages in this book, if you understand the depth of the story. A must read.</td>\n",
       "    </tr>\n",
       "    <tr>\n",
       "      <th>3</th>\n",
       "      <td>9788129135506</td>\n",
       "      <td>3</td>\n",
       "      <td>Decent product</td>\n",
       "      <td>A bit monotonous at the beginning but very interesting at the end, gives better opinions for enjoying a good life...overall not bad.</td>\n",
       "    </tr>\n",
       "    <tr>\n",
       "      <th>4</th>\n",
       "      <td>9788129135506</td>\n",
       "      <td>5</td>\n",
       "      <td>Fabulous!</td>\n",
       "      <td>Just completed reading this fantastic book... Hats off to Mr. CHETAN BHAGAT ... don't have words to explain how good &amp; positivity the book has brought to my life..just love it... Go for it guys.. just gram it with both hands... Happy reading... Thank you Chetan sir for mesmerising me with your detailed script.... Love u</td>\n",
       "    </tr>\n",
       "  </tbody>\n",
       "</table>\n",
       "</div>"
      ],
      "text/plain": [
       "      product_id rating               summary  \\\n",
       "0  9788129135506  4      Worth the money        \n",
       "1  9788129135506  4      Good quality product   \n",
       "2  9788129135506  5      Worth every penny      \n",
       "3  9788129135506  3      Decent product         \n",
       "4  9788129135506  5      Fabulous!              \n",
       "\n",
       "                                                                                                                                                                                                                                                                                                                              review  \n",
       "0  Excellent, same as author i was thinking how a person can write a book on 'call centre'.  not 5 stars bcz i feel there are some gags. overall it's  fabulous. i Love this page where chetan sir talking about their twin whose created by his better half👌 and before reading complete the exercise it's amazing idea.             \n",
       "1  A beautifully knitted plot. Thoroughly enjoyable. This is Chetan Bhagat's undeniable quality. You won't be bored. But to me his work is like a bollywood movie where everything will be fine at the end. Though life does not work like that. His work lacks this. But '2 States' & \"Revolution 20/20' are different.              \n",
       "2  This is still my favorite book, and the first book i read. Was really well written and good story. Though there are some fiction beyond human things, it is worth the read. Will make you understand life.. Lots of small messages in this book, if you understand the depth of the story. A must read.                            \n",
       "3  A bit monotonous at the beginning but very interesting at the end, gives better opinions for enjoying a good life...overall not bad.                                                                                                                                                                                               \n",
       "4  Just completed reading this fantastic book... Hats off to Mr. CHETAN BHAGAT ... don't have words to explain how good & positivity the book has brought to my life..just love it... Go for it guys.. just gram it with both hands... Happy reading... Thank you Chetan sir for mesmerising me with your detailed script.... Love u  "
      ]
     },
     "metadata": {},
     "output_type": "display_data"
    },
    {
     "data": {
      "text/html": [
       "<div>\n",
       "<style scoped>\n",
       "    .dataframe tbody tr th:only-of-type {\n",
       "        vertical-align: middle;\n",
       "    }\n",
       "\n",
       "    .dataframe tbody tr th {\n",
       "        vertical-align: top;\n",
       "    }\n",
       "\n",
       "    .dataframe thead th {\n",
       "        text-align: right;\n",
       "    }\n",
       "</style>\n",
       "<table border=\"1\" class=\"dataframe\">\n",
       "  <thead>\n",
       "    <tr style=\"text-align: right;\">\n",
       "      <th></th>\n",
       "      <th>product_id</th>\n",
       "      <th>rating</th>\n",
       "      <th>summary</th>\n",
       "      <th>review</th>\n",
       "    </tr>\n",
       "  </thead>\n",
       "  <tbody>\n",
       "    <tr>\n",
       "      <th>410</th>\n",
       "      <td>9788129135506</td>\n",
       "      <td>5</td>\n",
       "      <td>Classy product</td>\n",
       "      <td>Wonderful  service,flipkart!!....i love ur service...i got my book within five days after the order...my book is just awsome..one night at the call centre by chethan bhagat is fantastic...it is absolutely  breath taking.......love it!!!!!!</td>\n",
       "    </tr>\n",
       "    <tr>\n",
       "      <th>411</th>\n",
       "      <td>9788129135506</td>\n",
       "      <td>5</td>\n",
       "      <td>Just wow!</td>\n",
       "      <td>Good service</td>\n",
       "    </tr>\n",
       "    <tr>\n",
       "      <th>412</th>\n",
       "      <td>9788129135506</td>\n",
       "      <td>5</td>\n",
       "      <td>Mind-blowing purchase</td>\n",
       "      <td>Superb service till now.</td>\n",
       "    </tr>\n",
       "    <tr>\n",
       "      <th>413</th>\n",
       "      <td>9788129135506</td>\n",
       "      <td>5</td>\n",
       "      <td>Wonderful</td>\n",
       "      <td>Delivered the product on time :) even before the planned date.. Nice packing,  .... Review about the book is subjective... For me its a masterpiece of chetan sir, value for the money? go on ....</td>\n",
       "    </tr>\n",
       "    <tr>\n",
       "      <th>414</th>\n",
       "      <td>9788129135506</td>\n",
       "      <td>4</td>\n",
       "      <td>Nice!!</td>\n",
       "      <td>Nice bookBut not chetans best.It certainly could hav been more racy at some times!</td>\n",
       "    </tr>\n",
       "  </tbody>\n",
       "</table>\n",
       "</div>"
      ],
      "text/plain": [
       "        product_id rating                summary  \\\n",
       "410  9788129135506  5      Classy product          \n",
       "411  9788129135506  5      Just wow!               \n",
       "412  9788129135506  5      Mind-blowing purchase   \n",
       "413  9788129135506  5      Wonderful               \n",
       "414  9788129135506  4      Nice!!                  \n",
       "\n",
       "                                                                                                                                                                                                                                              review  \n",
       "410  Wonderful  service,flipkart!!....i love ur service...i got my book within five days after the order...my book is just awsome..one night at the call centre by chethan bhagat is fantastic...it is absolutely  breath taking.......love it!!!!!!  \n",
       "411  Good service                                                                                                                                                                                                                                     \n",
       "412  Superb service till now.                                                                                                                                                                                                                         \n",
       "413  Delivered the product on time :) even before the planned date.. Nice packing,  .... Review about the book is subjective... For me its a masterpiece of chetan sir, value for the money? go on ....                                               \n",
       "414  Nice bookBut not chetans best.It certainly could hav been more racy at some times!                                                                                                                                                               "
      ]
     },
     "metadata": {},
     "output_type": "display_data"
    }
   ],
   "source": [
    "df2 = pd.DataFrame(dataset_2)\n",
    "\n",
    "with pd.option_context('display.max_colwidth', -1):\n",
    "    display(df2.head(5))\n",
    "    display(df2.tail(5))"
   ]
  },
  {
   "cell_type": "code",
   "execution_count": 9,
   "metadata": {},
   "outputs": [],
   "source": [
    "df2.to_csv('/Users/kritya/Desktop/College/SEM 7/Project Phase 1/DS/FYP - FlipBook2.csv')"
   ]
  },
  {
   "cell_type": "code",
   "execution_count": null,
   "metadata": {},
   "outputs": [],
   "source": []
  },
  {
   "cell_type": "code",
   "execution_count": null,
   "metadata": {},
   "outputs": [],
   "source": [
    "# DS-3"
   ]
  },
  {
   "cell_type": "code",
   "execution_count": 11,
   "metadata": {},
   "outputs": [
    {
     "data": {
      "application/vnd.jupyter.widget-view+json": {
       "model_id": "f310abb182d940479f4b14020ebbff19",
       "version_major": 2,
       "version_minor": 0
      },
      "text/plain": [
       "HBox(children=(HTML(value='products'), FloatProgress(value=0.0, max=1.0), HTML(value='')))"
      ]
     },
     "metadata": {},
     "output_type": "display_data"
    },
    {
     "data": {
      "application/vnd.jupyter.widget-view+json": {
       "model_id": "",
       "version_major": 2,
       "version_minor": 0
      },
      "text/plain": [
       "HBox(children=(HTML(value='review pages'), FloatProgress(value=0.0, max=1000.0), HTML(value='')))"
      ]
     },
     "metadata": {},
     "output_type": "display_data"
    },
    {
     "name": "stdout",
     "output_type": "stream",
     "text": [
      "\n"
     ]
    }
   ],
   "source": [
    "link = ['https://www.flipkart.com/3-mistakes-my-life/product-reviews/itmf0a18d6b138e8?pid=9788129135513&lid=LSTBOK9788129135513L0JG94&marketplace=FLIPKART']\n",
    "dataset_3 = []\n",
    "\n",
    "for idx, url in enumerate(tqdm(link, desc='products')):\n",
    "    # iterating over review pages\n",
    "    for i in tqdm(range(1,1000+1), desc=\"review pages\", position=0, leave=False):\n",
    "        parsed = urlparse.urlparse(url)\n",
    "        pid = parse_qs(parsed.query)['pid'][0]\n",
    "        URL = f\"{url}&page={i}\"\n",
    "        \n",
    "        r = requests.get(URL)\n",
    "        \n",
    "        # Pause the loop for 0-1 seconds to simulate natural setting not overwhelm the server with back to back requests without any pause\n",
    "        sleep(random())\n",
    "        soup = BeautifulSoup(r.content, 'html.parser') \n",
    "        \n",
    "        rows = soup.find_all('div',attrs={'class':'col _2wzgFH K0kLPL'})\n",
    "\n",
    "        for row in rows:\n",
    "\n",
    "            # finding all rows within the block\n",
    "            sub_row = row.find_all('div',attrs={'class':'row'})\n",
    "\n",
    "            # extracting text from 1st 2nd and 4th row\n",
    "            rating = sub_row[0].find('div').text\n",
    "            \n",
    "            summary = sub_row[0].find('p').text\n",
    "            summary = summary.strip()\n",
    "            \n",
    "            review = sub_row[1].find_all('div')[2].text\n",
    "            review = review.strip()\n",
    "\n",
    "            # appending to data\n",
    "            dataset_3.append({'product_id':pid, 'rating': rating, 'summary': summary, 'review': review})"
   ]
  },
  {
   "cell_type": "code",
   "execution_count": 12,
   "metadata": {},
   "outputs": [
    {
     "data": {
      "text/html": [
       "<div>\n",
       "<style scoped>\n",
       "    .dataframe tbody tr th:only-of-type {\n",
       "        vertical-align: middle;\n",
       "    }\n",
       "\n",
       "    .dataframe tbody tr th {\n",
       "        vertical-align: top;\n",
       "    }\n",
       "\n",
       "    .dataframe thead th {\n",
       "        text-align: right;\n",
       "    }\n",
       "</style>\n",
       "<table border=\"1\" class=\"dataframe\">\n",
       "  <thead>\n",
       "    <tr style=\"text-align: right;\">\n",
       "      <th></th>\n",
       "      <th>product_id</th>\n",
       "      <th>rating</th>\n",
       "      <th>summary</th>\n",
       "      <th>review</th>\n",
       "    </tr>\n",
       "  </thead>\n",
       "  <tbody>\n",
       "    <tr>\n",
       "      <th>0</th>\n",
       "      <td>9788129135513</td>\n",
       "      <td>5</td>\n",
       "      <td>The Most Knowledgable &amp; Amazing Book</td>\n",
       "      <td>I have chosen this product because I had actually liked the product and I thought that I could gain some kind of knowledge and gain for myself if I had read and understood this book very well and even my knowledge and will-power would have been increased by trying to learn and read through this book.</td>\n",
       "    </tr>\n",
       "    <tr>\n",
       "      <th>1</th>\n",
       "      <td>9788129135513</td>\n",
       "      <td>4</td>\n",
       "      <td>Nice product</td>\n",
       "      <td>A good book from Chetan Bhagat.. Different from other books but I felt a bit similar to Five point someone, the friendship and love part.. A good option to try.</td>\n",
       "    </tr>\n",
       "    <tr>\n",
       "      <th>2</th>\n",
       "      <td>9788129135513</td>\n",
       "      <td>4</td>\n",
       "      <td>Really Nice</td>\n",
       "      <td>this book is amazing !! I love this book Chetan bhagat books are always amazing and interesting...I love this book ..💛</td>\n",
       "    </tr>\n",
       "    <tr>\n",
       "      <th>3</th>\n",
       "      <td>9788129135513</td>\n",
       "      <td>5</td>\n",
       "      <td>wow</td>\n",
       "      <td>wow that’s a wonderful book I ever read... the books are in perfect shape even without a scratch even though they were delivered from a far place ... superb courier service and good book</td>\n",
       "    </tr>\n",
       "    <tr>\n",
       "      <th>4</th>\n",
       "      <td>9788129135513</td>\n",
       "      <td>5</td>\n",
       "      <td>Classy product</td>\n",
       "      <td>Best book, amazing content. I just loved it. Thank you Chetan Bhagat for such an amazing content.</td>\n",
       "    </tr>\n",
       "  </tbody>\n",
       "</table>\n",
       "</div>"
      ],
      "text/plain": [
       "      product_id rating                               summary  \\\n",
       "0  9788129135513  5      The Most Knowledgable & Amazing Book   \n",
       "1  9788129135513  4      Nice product                           \n",
       "2  9788129135513  4      Really Nice                            \n",
       "3  9788129135513  5      wow                                    \n",
       "4  9788129135513  5      Classy product                         \n",
       "\n",
       "                                                                                                                                                                                                                                                                                                          review  \n",
       "0  I have chosen this product because I had actually liked the product and I thought that I could gain some kind of knowledge and gain for myself if I had read and understood this book very well and even my knowledge and will-power would have been increased by trying to learn and read through this book.  \n",
       "1  A good book from Chetan Bhagat.. Different from other books but I felt a bit similar to Five point someone, the friendship and love part.. A good option to try.                                                                                                                                               \n",
       "2  this book is amazing !! I love this book Chetan bhagat books are always amazing and interesting...I love this book ..💛                                                                                                                                                                                         \n",
       "3  wow that’s a wonderful book I ever read... the books are in perfect shape even without a scratch even though they were delivered from a far place ... superb courier service and good book                                                                                                                     \n",
       "4  Best book, amazing content. I just loved it. Thank you Chetan Bhagat for such an amazing content.                                                                                                                                                                                                              "
      ]
     },
     "metadata": {},
     "output_type": "display_data"
    },
    {
     "data": {
      "text/html": [
       "<div>\n",
       "<style scoped>\n",
       "    .dataframe tbody tr th:only-of-type {\n",
       "        vertical-align: middle;\n",
       "    }\n",
       "\n",
       "    .dataframe tbody tr th {\n",
       "        vertical-align: top;\n",
       "    }\n",
       "\n",
       "    .dataframe thead th {\n",
       "        text-align: right;\n",
       "    }\n",
       "</style>\n",
       "<table border=\"1\" class=\"dataframe\">\n",
       "  <thead>\n",
       "    <tr style=\"text-align: right;\">\n",
       "      <th></th>\n",
       "      <th>product_id</th>\n",
       "      <th>rating</th>\n",
       "      <th>summary</th>\n",
       "      <th>review</th>\n",
       "    </tr>\n",
       "  </thead>\n",
       "  <tbody>\n",
       "    <tr>\n",
       "      <th>808</th>\n",
       "      <td>9788129135513</td>\n",
       "      <td>5</td>\n",
       "      <td>Classy product</td>\n",
       "      <td>Deliver on timeThank you</td>\n",
       "    </tr>\n",
       "    <tr>\n",
       "      <th>809</th>\n",
       "      <td>9788129135513</td>\n",
       "      <td>5</td>\n",
       "      <td>Perfect product!</td>\n",
       "      <td>Thank you</td>\n",
       "    </tr>\n",
       "    <tr>\n",
       "      <th>810</th>\n",
       "      <td>9788129135513</td>\n",
       "      <td>5</td>\n",
       "      <td>Packing</td>\n",
       "      <td>Good packing</td>\n",
       "    </tr>\n",
       "    <tr>\n",
       "      <th>811</th>\n",
       "      <td>9788129135513</td>\n",
       "      <td>5</td>\n",
       "      <td>Good one</td>\n",
       "      <td>Got in time,well packed, new product.loved it</td>\n",
       "    </tr>\n",
       "    <tr>\n",
       "      <th>812</th>\n",
       "      <td>9788129135513</td>\n",
       "      <td>2</td>\n",
       "      <td>Cheap quality</td>\n",
       "      <td>The quality of the book pages are bad and even worst but good timely from flipkart ðÂ?Â?Â?</td>\n",
       "    </tr>\n",
       "  </tbody>\n",
       "</table>\n",
       "</div>"
      ],
      "text/plain": [
       "        product_id rating           summary  \\\n",
       "808  9788129135513  5      Classy product     \n",
       "809  9788129135513  5      Perfect product!   \n",
       "810  9788129135513  5      Packing            \n",
       "811  9788129135513  5      Good one           \n",
       "812  9788129135513  2      Cheap quality      \n",
       "\n",
       "                                                                                         review  \n",
       "808  Deliver on timeThank you                                                                    \n",
       "809  Thank you                                                                                   \n",
       "810  Good packing                                                                                \n",
       "811  Got in time,well packed, new product.loved it                                               \n",
       "812  The quality of the book pages are bad and even worst but good timely from flipkart ðÂ?Â?Â?  "
      ]
     },
     "metadata": {},
     "output_type": "display_data"
    }
   ],
   "source": [
    "df3 = pd.DataFrame(dataset_3)\n",
    "\n",
    "with pd.option_context('display.max_colwidth', -1):\n",
    "    display(df3.head(5))\n",
    "    display(df3.tail(5))"
   ]
  },
  {
   "cell_type": "code",
   "execution_count": 13,
   "metadata": {},
   "outputs": [],
   "source": [
    "df3.to_csv('/Users/kritya/Desktop/College/SEM 7/Project Phase 1/DS/FYP - FlipBook3.csv')"
   ]
  },
  {
   "cell_type": "code",
   "execution_count": null,
   "metadata": {},
   "outputs": [],
   "source": []
  },
  {
   "cell_type": "code",
   "execution_count": null,
   "metadata": {},
   "outputs": [],
   "source": [
    "# DS-4"
   ]
  },
  {
   "cell_type": "code",
   "execution_count": 19,
   "metadata": {},
   "outputs": [
    {
     "data": {
      "application/vnd.jupyter.widget-view+json": {
       "model_id": "89c9f01dc709477ba1f4ec856f0729f6",
       "version_major": 2,
       "version_minor": 0
      },
      "text/plain": [
       "HBox(children=(HTML(value='products'), FloatProgress(value=0.0, max=1.0), HTML(value='')))"
      ]
     },
     "metadata": {},
     "output_type": "display_data"
    },
    {
     "data": {
      "application/vnd.jupyter.widget-view+json": {
       "model_id": "",
       "version_major": 2,
       "version_minor": 0
      },
      "text/plain": [
       "HBox(children=(HTML(value='review pages'), FloatProgress(value=0.0, max=1000.0), HTML(value='')))"
      ]
     },
     "metadata": {},
     "output_type": "display_data"
    },
    {
     "name": "stdout",
     "output_type": "stream",
     "text": [
      "\n"
     ]
    }
   ],
   "source": [
    "link = ['https://www.flipkart.com/2-states/product-reviews/itmffugyxzh2bajb?pid=9788129115300&lid=LSTBOK9788129115300VXJ1XR&marketplace=FLIPKART']\n",
    "dataset_4 = []\n",
    "\n",
    "for idx, url in enumerate(tqdm(link, desc='products')):\n",
    "    # iterating over review pages\n",
    "    for i in tqdm(range(1,1000+1), desc=\"review pages\", position=0, leave=False):\n",
    "        parsed = urlparse.urlparse(url)\n",
    "        pid = parse_qs(parsed.query)['pid'][0]\n",
    "        URL = f\"{url}&page={i}\"\n",
    "        \n",
    "        r = requests.get(URL)\n",
    "        \n",
    "        # Pause the loop for 0-1 seconds to simulate natural setting not overwhelm the server with back to back requests without any pause\n",
    "        sleep(1)\n",
    "        soup = BeautifulSoup(r.content, 'html.parser') \n",
    "        \n",
    "        rows = soup.find_all('div',attrs={'class':'col _2wzgFH K0kLPL'})\n",
    "\n",
    "        for row in rows:\n",
    "\n",
    "            # finding all rows within the block\n",
    "            sub_row = row.find_all('div',attrs={'class':'row'})\n",
    "\n",
    "            # extracting text from 1st 2nd and 4th row\n",
    "            rating = sub_row[0].find('div').text\n",
    "            \n",
    "            summary = sub_row[0].find('p').text\n",
    "            summary = summary.strip()\n",
    "            \n",
    "            review = sub_row[1].find_all('div')[2].text\n",
    "            review = review.strip()\n",
    "\n",
    "            # appending to data\n",
    "            dataset_4.append({'product_id':pid, 'rating': rating, 'summary': summary, 'review': review})"
   ]
  },
  {
   "cell_type": "code",
   "execution_count": 20,
   "metadata": {},
   "outputs": [
    {
     "data": {
      "text/html": [
       "<div>\n",
       "<style scoped>\n",
       "    .dataframe tbody tr th:only-of-type {\n",
       "        vertical-align: middle;\n",
       "    }\n",
       "\n",
       "    .dataframe tbody tr th {\n",
       "        vertical-align: top;\n",
       "    }\n",
       "\n",
       "    .dataframe thead th {\n",
       "        text-align: right;\n",
       "    }\n",
       "</style>\n",
       "<table border=\"1\" class=\"dataframe\">\n",
       "  <thead>\n",
       "    <tr style=\"text-align: right;\">\n",
       "      <th></th>\n",
       "      <th>product_id</th>\n",
       "      <th>rating</th>\n",
       "      <th>summary</th>\n",
       "      <th>review</th>\n",
       "    </tr>\n",
       "  </thead>\n",
       "  <tbody>\n",
       "    <tr>\n",
       "      <th>0</th>\n",
       "      <td>9788129115300</td>\n",
       "      <td>3</td>\n",
       "      <td>2 States (Book) - Chetan Bhagat</td>\n",
       "      <td>The book and the story:  As the top of the cover itself says “2 States – The story of my marriage” – you can imagine what it’s all about. I still have no idea about him and his life yet but  but I can tell you one thing about him after reading this book that I guess this is his own life story and I am sure Chetan Bhagat is one hopelessly romantic guy, who is madly in love with his wife – so much so that he just can’t stop bragging about her and this book is nothing but the same story told in ...</td>\n",
       "    </tr>\n",
       "    <tr>\n",
       "      <th>1</th>\n",
       "      <td>9788129115300</td>\n",
       "      <td>5</td>\n",
       "      <td>MUST READ FOR LOVERS...</td>\n",
       "      <td>I am a real diehard fan of ChetanBhagat. He is my favorite writer. His books are my favorite.. \"2states\" the most favorite of them all.. 2States is one of the best love stories I have ever heard or read about. A real transpiring love story.. I read the book in one nonstop sitting. Completed reading it for the eighth time now and I've never got bored reading it.. The book is an eye opener for young minds.For someone who thought the journey from start of 'true love' towards tying the knot w...</td>\n",
       "    </tr>\n",
       "    <tr>\n",
       "      <th>2</th>\n",
       "      <td>9788129115300</td>\n",
       "      <td>5</td>\n",
       "      <td>A very good book, no strings attached</td>\n",
       "      <td>Well, i had heard good things about this book and that is when i finally decided to buy itIt started a bit slow and i was always trying to mentally compare it to \"5 point someone\" so i was initially a little disappointed but Boy, did i know what was coming up next, as chapters passed i got so much into the storyline that i did not even have track of time and read the book through the night to finish itThe key points that i liked is1. Simple and lively language2. A potent mixture of humor ...</td>\n",
       "    </tr>\n",
       "    <tr>\n",
       "      <th>3</th>\n",
       "      <td>9788129115300</td>\n",
       "      <td>5</td>\n",
       "      <td>It's fabulous and highly recommended</td>\n",
       "      <td>I would suggest every romantic tale lover to read this book as it's a good eg. Of true love</td>\n",
       "    </tr>\n",
       "    <tr>\n",
       "      <th>4</th>\n",
       "      <td>9788129115300</td>\n",
       "      <td>4</td>\n",
       "      <td>the book which got me footing in the world of english</td>\n",
       "      <td>well..........'jab kuch achha lagta hai to vo mushkil hoke bhi asaan ho jaata hai!'bought this novel from a flee market with purpose of learning english as advised by someone and to my amazement i found it intriguing me to read further.as i was a beginner so it took me 1 month to go through it.for me it was a wonderful experience to learn as well as delight.In the country like India where love story is the best amusement being provided by yashraj films, Chetan sir also served the same &amp; he...</td>\n",
       "    </tr>\n",
       "  </tbody>\n",
       "</table>\n",
       "</div>"
      ],
      "text/plain": [
       "      product_id rating  \\\n",
       "0  9788129115300  3       \n",
       "1  9788129115300  5       \n",
       "2  9788129115300  5       \n",
       "3  9788129115300  5       \n",
       "4  9788129115300  4       \n",
       "\n",
       "                                                 summary  \\\n",
       "0  2 States (Book) - Chetan Bhagat                         \n",
       "1  MUST READ FOR LOVERS...                                 \n",
       "2  A very good book, no strings attached                   \n",
       "3  It's fabulous and highly recommended                    \n",
       "4  the book which got me footing in the world of english   \n",
       "\n",
       "                                                                                                                                                                                                                                                                                                                                                                                                                                                                                                                 review  \n",
       "0  The book and the story:  As the top of the cover itself says “2 States – The story of my marriage” – you can imagine what it’s all about. I still have no idea about him and his life yet but  but I can tell you one thing about him after reading this book that I guess this is his own life story and I am sure Chetan Bhagat is one hopelessly romantic guy, who is madly in love with his wife – so much so that he just can’t stop bragging about her and this book is nothing but the same story told in ...  \n",
       "1  I am a real diehard fan of ChetanBhagat. He is my favorite writer. His books are my favorite.. \"2states\" the most favorite of them all.. 2States is one of the best love stories I have ever heard or read about. A real transpiring love story.. I read the book in one nonstop sitting. Completed reading it for the eighth time now and I've never got bored reading it.. The book is an eye opener for young minds.For someone who thought the journey from start of 'true love' towards tying the knot w...      \n",
       "2  Well, i had heard good things about this book and that is when i finally decided to buy itIt started a bit slow and i was always trying to mentally compare it to \"5 point someone\" so i was initially a little disappointed but Boy, did i know what was coming up next, as chapters passed i got so much into the storyline that i did not even have track of time and read the book through the night to finish itThe key points that i liked is1. Simple and lively language2. A potent mixture of humor ...      \n",
       "3  I would suggest every romantic tale lover to read this book as it's a good eg. Of true love                                                                                                                                                                                                                                                                                                                                                                                                                           \n",
       "4  well..........'jab kuch achha lagta hai to vo mushkil hoke bhi asaan ho jaata hai!'bought this novel from a flee market with purpose of learning english as advised by someone and to my amazement i found it intriguing me to read further.as i was a beginner so it took me 1 month to go through it.for me it was a wonderful experience to learn as well as delight.In the country like India where love story is the best amusement being provided by yashraj films, Chetan sir also served the same & he...     "
      ]
     },
     "metadata": {},
     "output_type": "display_data"
    },
    {
     "data": {
      "text/html": [
       "<div>\n",
       "<style scoped>\n",
       "    .dataframe tbody tr th:only-of-type {\n",
       "        vertical-align: middle;\n",
       "    }\n",
       "\n",
       "    .dataframe tbody tr th {\n",
       "        vertical-align: top;\n",
       "    }\n",
       "\n",
       "    .dataframe thead th {\n",
       "        text-align: right;\n",
       "    }\n",
       "</style>\n",
       "<table border=\"1\" class=\"dataframe\">\n",
       "  <thead>\n",
       "    <tr style=\"text-align: right;\">\n",
       "      <th></th>\n",
       "      <th>product_id</th>\n",
       "      <th>rating</th>\n",
       "      <th>summary</th>\n",
       "      <th>review</th>\n",
       "    </tr>\n",
       "  </thead>\n",
       "  <tbody>\n",
       "    <tr>\n",
       "      <th>605</th>\n",
       "      <td>9788129115300</td>\n",
       "      <td>5</td>\n",
       "      <td>Great Serving</td>\n",
       "      <td>Delivers in 1 day...Awesome Book Also</td>\n",
       "    </tr>\n",
       "    <tr>\n",
       "      <th>606</th>\n",
       "      <td>9788129115300</td>\n",
       "      <td>4</td>\n",
       "      <td>Super novel</td>\n",
       "      <td>Thanks for flipkart delivered on time.Story is awesome thanks of chethan giving such a novel.I suggest to Buyers to buy this novel as early as possible</td>\n",
       "    </tr>\n",
       "    <tr>\n",
       "      <th>607</th>\n",
       "      <td>9788129115300</td>\n",
       "      <td>5</td>\n",
       "      <td>Good</td>\n",
       "      <td>Good Excellent in condition as described, i am very happy with flipkart delivery. Price is also reasonable.</td>\n",
       "    </tr>\n",
       "    <tr>\n",
       "      <th>608</th>\n",
       "      <td>9788129115300</td>\n",
       "      <td>5</td>\n",
       "      <td>Good read !!</td>\n",
       "      <td>overall nice read. Product received in fantastic order.................................kudos flipkart</td>\n",
       "    </tr>\n",
       "    <tr>\n",
       "      <th>609</th>\n",
       "      <td>9788129115300</td>\n",
       "      <td>1</td>\n",
       "      <td>very bad</td>\n",
       "      <td>Its realy very disappointing thing that flipkart sold a secondhand book and very old book.. I'm realy not satisfied with this..</td>\n",
       "    </tr>\n",
       "  </tbody>\n",
       "</table>\n",
       "</div>"
      ],
      "text/plain": [
       "        product_id rating        summary  \\\n",
       "605  9788129115300  5      Great Serving   \n",
       "606  9788129115300  4      Super novel     \n",
       "607  9788129115300  5      Good            \n",
       "608  9788129115300  5      Good read !!    \n",
       "609  9788129115300  1      very bad        \n",
       "\n",
       "                                                                                                                                                      review  \n",
       "605  Delivers in 1 day...Awesome Book Also                                                                                                                    \n",
       "606  Thanks for flipkart delivered on time.Story is awesome thanks of chethan giving such a novel.I suggest to Buyers to buy this novel as early as possible  \n",
       "607  Good Excellent in condition as described, i am very happy with flipkart delivery. Price is also reasonable.                                              \n",
       "608  overall nice read. Product received in fantastic order.................................kudos flipkart                                                    \n",
       "609  Its realy very disappointing thing that flipkart sold a secondhand book and very old book.. I'm realy not satisfied with this..                          "
      ]
     },
     "metadata": {},
     "output_type": "display_data"
    }
   ],
   "source": [
    "df4 = pd.DataFrame(dataset_4)\n",
    "\n",
    "with pd.option_context('display.max_colwidth', -1):\n",
    "    display(df4.head(5))\n",
    "    display(df4.tail(5))"
   ]
  },
  {
   "cell_type": "code",
   "execution_count": 21,
   "metadata": {},
   "outputs": [
    {
     "data": {
      "text/html": [
       "<div>\n",
       "<style scoped>\n",
       "    .dataframe tbody tr th:only-of-type {\n",
       "        vertical-align: middle;\n",
       "    }\n",
       "\n",
       "    .dataframe tbody tr th {\n",
       "        vertical-align: top;\n",
       "    }\n",
       "\n",
       "    .dataframe thead th {\n",
       "        text-align: right;\n",
       "    }\n",
       "</style>\n",
       "<table border=\"1\" class=\"dataframe\">\n",
       "  <thead>\n",
       "    <tr style=\"text-align: right;\">\n",
       "      <th></th>\n",
       "      <th>product_id</th>\n",
       "      <th>rating</th>\n",
       "      <th>summary</th>\n",
       "      <th>review</th>\n",
       "    </tr>\n",
       "  </thead>\n",
       "  <tbody>\n",
       "    <tr>\n",
       "      <th>0</th>\n",
       "      <td>9788129115300</td>\n",
       "      <td>3</td>\n",
       "      <td>2 States (Book) - Chetan Bhagat</td>\n",
       "      <td>The book and the story:  As the top of the cov...</td>\n",
       "    </tr>\n",
       "    <tr>\n",
       "      <th>1</th>\n",
       "      <td>9788129115300</td>\n",
       "      <td>5</td>\n",
       "      <td>MUST READ FOR LOVERS...</td>\n",
       "      <td>I am a real diehard fan of ChetanBhagat. He is...</td>\n",
       "    </tr>\n",
       "    <tr>\n",
       "      <th>2</th>\n",
       "      <td>9788129115300</td>\n",
       "      <td>5</td>\n",
       "      <td>A very good book, no strings attached</td>\n",
       "      <td>Well, i had heard good things about this book ...</td>\n",
       "    </tr>\n",
       "    <tr>\n",
       "      <th>3</th>\n",
       "      <td>9788129115300</td>\n",
       "      <td>5</td>\n",
       "      <td>It's fabulous and highly recommended</td>\n",
       "      <td>I would suggest every romantic tale lover to r...</td>\n",
       "    </tr>\n",
       "    <tr>\n",
       "      <th>4</th>\n",
       "      <td>9788129115300</td>\n",
       "      <td>4</td>\n",
       "      <td>the book which got me footing in the world of ...</td>\n",
       "      <td>well..........'jab kuch achha lagta hai to vo ...</td>\n",
       "    </tr>\n",
       "  </tbody>\n",
       "</table>\n",
       "</div>"
      ],
      "text/plain": [
       "      product_id rating                                            summary  \\\n",
       "0  9788129115300      3                    2 States (Book) - Chetan Bhagat   \n",
       "1  9788129115300      5                            MUST READ FOR LOVERS...   \n",
       "2  9788129115300      5              A very good book, no strings attached   \n",
       "3  9788129115300      5               It's fabulous and highly recommended   \n",
       "4  9788129115300      4  the book which got me footing in the world of ...   \n",
       "\n",
       "                                              review  \n",
       "0  The book and the story:  As the top of the cov...  \n",
       "1  I am a real diehard fan of ChetanBhagat. He is...  \n",
       "2  Well, i had heard good things about this book ...  \n",
       "3  I would suggest every romantic tale lover to r...  \n",
       "4  well..........'jab kuch achha lagta hai to vo ...  "
      ]
     },
     "execution_count": 21,
     "metadata": {},
     "output_type": "execute_result"
    }
   ],
   "source": [
    "df4.head()"
   ]
  },
  {
   "cell_type": "code",
   "execution_count": 22,
   "metadata": {},
   "outputs": [],
   "source": [
    "df4.to_csv('/Users/kritya/Desktop/College/SEM 7/Project Phase 1/DS/FYP - FlipBook4.csv')"
   ]
  },
  {
   "cell_type": "code",
   "execution_count": null,
   "metadata": {},
   "outputs": [],
   "source": []
  },
  {
   "cell_type": "code",
   "execution_count": 4,
   "metadata": {},
   "outputs": [],
   "source": [
    "# DS-5"
   ]
  },
  {
   "cell_type": "code",
   "execution_count": 7,
   "metadata": {},
   "outputs": [
    {
     "data": {
      "application/vnd.jupyter.widget-view+json": {
       "model_id": "2cd91e6f02af46f6befc94280ba2177f",
       "version_major": 2,
       "version_minor": 0
      },
      "text/plain": [
       "HBox(children=(HTML(value='products'), FloatProgress(value=0.0, max=2.0), HTML(value='')))"
      ]
     },
     "metadata": {},
     "output_type": "display_data"
    },
    {
     "data": {
      "application/vnd.jupyter.widget-view+json": {
       "model_id": "",
       "version_major": 2,
       "version_minor": 0
      },
      "text/plain": [
       "HBox(children=(HTML(value='review pages'), FloatProgress(value=0.0, max=2000.0), HTML(value='')))"
      ]
     },
     "metadata": {},
     "output_type": "display_data"
    },
    {
     "data": {
      "application/vnd.jupyter.widget-view+json": {
       "model_id": "5132d9e770d841bfb0c4b58909c502d9",
       "version_major": 2,
       "version_minor": 0
      },
      "text/plain": [
       "HBox(children=(HTML(value='review pages'), FloatProgress(value=0.0, max=2000.0), HTML(value='')))"
      ]
     },
     "metadata": {},
     "output_type": "display_data"
    },
    {
     "name": "stdout",
     "output_type": "stream",
     "text": [
      "\n"
     ]
    },
    {
     "ename": "KeyboardInterrupt",
     "evalue": "",
     "output_type": "error",
     "traceback": [
      "\u001b[0;31m---------------------------------------------------------------------------\u001b[0m",
      "\u001b[0;31mKeyboardInterrupt\u001b[0m                         Traceback (most recent call last)",
      "\u001b[0;32m<ipython-input-7-3fa63d38aa8d>\u001b[0m in \u001b[0;36m<module>\u001b[0;34m\u001b[0m\n\u001b[1;32m     10\u001b[0m         \u001b[0mURL\u001b[0m \u001b[0;34m=\u001b[0m \u001b[0;34mf\"{url}&page={i}\"\u001b[0m\u001b[0;34m\u001b[0m\u001b[0;34m\u001b[0m\u001b[0m\n\u001b[1;32m     11\u001b[0m \u001b[0;34m\u001b[0m\u001b[0m\n\u001b[0;32m---> 12\u001b[0;31m         \u001b[0mr\u001b[0m \u001b[0;34m=\u001b[0m \u001b[0mrequests\u001b[0m\u001b[0;34m.\u001b[0m\u001b[0mget\u001b[0m\u001b[0;34m(\u001b[0m\u001b[0mURL\u001b[0m\u001b[0;34m)\u001b[0m\u001b[0;34m\u001b[0m\u001b[0;34m\u001b[0m\u001b[0m\n\u001b[0m\u001b[1;32m     13\u001b[0m \u001b[0;34m\u001b[0m\u001b[0m\n\u001b[1;32m     14\u001b[0m         \u001b[0;31m# Pause the loop for 0-1 seconds to simulate natural setting not overwhelm the server with back to back requests without any pause\u001b[0m\u001b[0;34m\u001b[0m\u001b[0;34m\u001b[0m\u001b[0;34m\u001b[0m\u001b[0m\n",
      "\u001b[0;32m~/opt/anaconda3/lib/python3.8/site-packages/requests/api.py\u001b[0m in \u001b[0;36mget\u001b[0;34m(url, params, **kwargs)\u001b[0m\n\u001b[1;32m     74\u001b[0m \u001b[0;34m\u001b[0m\u001b[0m\n\u001b[1;32m     75\u001b[0m     \u001b[0mkwargs\u001b[0m\u001b[0;34m.\u001b[0m\u001b[0msetdefault\u001b[0m\u001b[0;34m(\u001b[0m\u001b[0;34m'allow_redirects'\u001b[0m\u001b[0;34m,\u001b[0m \u001b[0;32mTrue\u001b[0m\u001b[0;34m)\u001b[0m\u001b[0;34m\u001b[0m\u001b[0;34m\u001b[0m\u001b[0m\n\u001b[0;32m---> 76\u001b[0;31m     \u001b[0;32mreturn\u001b[0m \u001b[0mrequest\u001b[0m\u001b[0;34m(\u001b[0m\u001b[0;34m'get'\u001b[0m\u001b[0;34m,\u001b[0m \u001b[0murl\u001b[0m\u001b[0;34m,\u001b[0m \u001b[0mparams\u001b[0m\u001b[0;34m=\u001b[0m\u001b[0mparams\u001b[0m\u001b[0;34m,\u001b[0m \u001b[0;34m**\u001b[0m\u001b[0mkwargs\u001b[0m\u001b[0;34m)\u001b[0m\u001b[0;34m\u001b[0m\u001b[0;34m\u001b[0m\u001b[0m\n\u001b[0m\u001b[1;32m     77\u001b[0m \u001b[0;34m\u001b[0m\u001b[0m\n\u001b[1;32m     78\u001b[0m \u001b[0;34m\u001b[0m\u001b[0m\n",
      "\u001b[0;32m~/opt/anaconda3/lib/python3.8/site-packages/requests/api.py\u001b[0m in \u001b[0;36mrequest\u001b[0;34m(method, url, **kwargs)\u001b[0m\n\u001b[1;32m     59\u001b[0m     \u001b[0;31m# cases, and look like a memory leak in others.\u001b[0m\u001b[0;34m\u001b[0m\u001b[0;34m\u001b[0m\u001b[0;34m\u001b[0m\u001b[0m\n\u001b[1;32m     60\u001b[0m     \u001b[0;32mwith\u001b[0m \u001b[0msessions\u001b[0m\u001b[0;34m.\u001b[0m\u001b[0mSession\u001b[0m\u001b[0;34m(\u001b[0m\u001b[0;34m)\u001b[0m \u001b[0;32mas\u001b[0m \u001b[0msession\u001b[0m\u001b[0;34m:\u001b[0m\u001b[0;34m\u001b[0m\u001b[0;34m\u001b[0m\u001b[0m\n\u001b[0;32m---> 61\u001b[0;31m         \u001b[0;32mreturn\u001b[0m \u001b[0msession\u001b[0m\u001b[0;34m.\u001b[0m\u001b[0mrequest\u001b[0m\u001b[0;34m(\u001b[0m\u001b[0mmethod\u001b[0m\u001b[0;34m=\u001b[0m\u001b[0mmethod\u001b[0m\u001b[0;34m,\u001b[0m \u001b[0murl\u001b[0m\u001b[0;34m=\u001b[0m\u001b[0murl\u001b[0m\u001b[0;34m,\u001b[0m \u001b[0;34m**\u001b[0m\u001b[0mkwargs\u001b[0m\u001b[0;34m)\u001b[0m\u001b[0;34m\u001b[0m\u001b[0;34m\u001b[0m\u001b[0m\n\u001b[0m\u001b[1;32m     62\u001b[0m \u001b[0;34m\u001b[0m\u001b[0m\n\u001b[1;32m     63\u001b[0m \u001b[0;34m\u001b[0m\u001b[0m\n",
      "\u001b[0;32m~/opt/anaconda3/lib/python3.8/site-packages/requests/sessions.py\u001b[0m in \u001b[0;36mrequest\u001b[0;34m(self, method, url, params, data, headers, cookies, files, auth, timeout, allow_redirects, proxies, hooks, stream, verify, cert, json)\u001b[0m\n\u001b[1;32m    528\u001b[0m         }\n\u001b[1;32m    529\u001b[0m         \u001b[0msend_kwargs\u001b[0m\u001b[0;34m.\u001b[0m\u001b[0mupdate\u001b[0m\u001b[0;34m(\u001b[0m\u001b[0msettings\u001b[0m\u001b[0;34m)\u001b[0m\u001b[0;34m\u001b[0m\u001b[0;34m\u001b[0m\u001b[0m\n\u001b[0;32m--> 530\u001b[0;31m         \u001b[0mresp\u001b[0m \u001b[0;34m=\u001b[0m \u001b[0mself\u001b[0m\u001b[0;34m.\u001b[0m\u001b[0msend\u001b[0m\u001b[0;34m(\u001b[0m\u001b[0mprep\u001b[0m\u001b[0;34m,\u001b[0m \u001b[0;34m**\u001b[0m\u001b[0msend_kwargs\u001b[0m\u001b[0;34m)\u001b[0m\u001b[0;34m\u001b[0m\u001b[0;34m\u001b[0m\u001b[0m\n\u001b[0m\u001b[1;32m    531\u001b[0m \u001b[0;34m\u001b[0m\u001b[0m\n\u001b[1;32m    532\u001b[0m         \u001b[0;32mreturn\u001b[0m \u001b[0mresp\u001b[0m\u001b[0;34m\u001b[0m\u001b[0;34m\u001b[0m\u001b[0m\n",
      "\u001b[0;32m~/opt/anaconda3/lib/python3.8/site-packages/requests/sessions.py\u001b[0m in \u001b[0;36msend\u001b[0;34m(self, request, **kwargs)\u001b[0m\n\u001b[1;32m    641\u001b[0m \u001b[0;34m\u001b[0m\u001b[0m\n\u001b[1;32m    642\u001b[0m         \u001b[0;31m# Send the request\u001b[0m\u001b[0;34m\u001b[0m\u001b[0;34m\u001b[0m\u001b[0;34m\u001b[0m\u001b[0m\n\u001b[0;32m--> 643\u001b[0;31m         \u001b[0mr\u001b[0m \u001b[0;34m=\u001b[0m \u001b[0madapter\u001b[0m\u001b[0;34m.\u001b[0m\u001b[0msend\u001b[0m\u001b[0;34m(\u001b[0m\u001b[0mrequest\u001b[0m\u001b[0;34m,\u001b[0m \u001b[0;34m**\u001b[0m\u001b[0mkwargs\u001b[0m\u001b[0;34m)\u001b[0m\u001b[0;34m\u001b[0m\u001b[0;34m\u001b[0m\u001b[0m\n\u001b[0m\u001b[1;32m    644\u001b[0m \u001b[0;34m\u001b[0m\u001b[0m\n\u001b[1;32m    645\u001b[0m         \u001b[0;31m# Total elapsed time of the request (approximately)\u001b[0m\u001b[0;34m\u001b[0m\u001b[0;34m\u001b[0m\u001b[0;34m\u001b[0m\u001b[0m\n",
      "\u001b[0;32m~/opt/anaconda3/lib/python3.8/site-packages/requests/adapters.py\u001b[0m in \u001b[0;36msend\u001b[0;34m(self, request, stream, timeout, verify, cert, proxies)\u001b[0m\n\u001b[1;32m    437\u001b[0m         \u001b[0;32mtry\u001b[0m\u001b[0;34m:\u001b[0m\u001b[0;34m\u001b[0m\u001b[0;34m\u001b[0m\u001b[0m\n\u001b[1;32m    438\u001b[0m             \u001b[0;32mif\u001b[0m \u001b[0;32mnot\u001b[0m \u001b[0mchunked\u001b[0m\u001b[0;34m:\u001b[0m\u001b[0;34m\u001b[0m\u001b[0;34m\u001b[0m\u001b[0m\n\u001b[0;32m--> 439\u001b[0;31m                 resp = conn.urlopen(\n\u001b[0m\u001b[1;32m    440\u001b[0m                     \u001b[0mmethod\u001b[0m\u001b[0;34m=\u001b[0m\u001b[0mrequest\u001b[0m\u001b[0;34m.\u001b[0m\u001b[0mmethod\u001b[0m\u001b[0;34m,\u001b[0m\u001b[0;34m\u001b[0m\u001b[0;34m\u001b[0m\u001b[0m\n\u001b[1;32m    441\u001b[0m                     \u001b[0murl\u001b[0m\u001b[0;34m=\u001b[0m\u001b[0murl\u001b[0m\u001b[0;34m,\u001b[0m\u001b[0;34m\u001b[0m\u001b[0;34m\u001b[0m\u001b[0m\n",
      "\u001b[0;32m~/opt/anaconda3/lib/python3.8/site-packages/urllib3/connectionpool.py\u001b[0m in \u001b[0;36murlopen\u001b[0;34m(self, method, url, body, headers, retries, redirect, assert_same_host, timeout, pool_timeout, release_conn, chunked, body_pos, **response_kw)\u001b[0m\n\u001b[1;32m    668\u001b[0m \u001b[0;34m\u001b[0m\u001b[0m\n\u001b[1;32m    669\u001b[0m             \u001b[0;31m# Make the request on the httplib connection object.\u001b[0m\u001b[0;34m\u001b[0m\u001b[0;34m\u001b[0m\u001b[0;34m\u001b[0m\u001b[0m\n\u001b[0;32m--> 670\u001b[0;31m             httplib_response = self._make_request(\n\u001b[0m\u001b[1;32m    671\u001b[0m                 \u001b[0mconn\u001b[0m\u001b[0;34m,\u001b[0m\u001b[0;34m\u001b[0m\u001b[0;34m\u001b[0m\u001b[0m\n\u001b[1;32m    672\u001b[0m                 \u001b[0mmethod\u001b[0m\u001b[0;34m,\u001b[0m\u001b[0;34m\u001b[0m\u001b[0;34m\u001b[0m\u001b[0m\n",
      "\u001b[0;32m~/opt/anaconda3/lib/python3.8/site-packages/urllib3/connectionpool.py\u001b[0m in \u001b[0;36m_make_request\u001b[0;34m(self, conn, method, url, timeout, chunked, **httplib_request_kw)\u001b[0m\n\u001b[1;32m    379\u001b[0m         \u001b[0;31m# Trigger any extra validation we need to do.\u001b[0m\u001b[0;34m\u001b[0m\u001b[0;34m\u001b[0m\u001b[0;34m\u001b[0m\u001b[0m\n\u001b[1;32m    380\u001b[0m         \u001b[0;32mtry\u001b[0m\u001b[0;34m:\u001b[0m\u001b[0;34m\u001b[0m\u001b[0;34m\u001b[0m\u001b[0m\n\u001b[0;32m--> 381\u001b[0;31m             \u001b[0mself\u001b[0m\u001b[0;34m.\u001b[0m\u001b[0m_validate_conn\u001b[0m\u001b[0;34m(\u001b[0m\u001b[0mconn\u001b[0m\u001b[0;34m)\u001b[0m\u001b[0;34m\u001b[0m\u001b[0;34m\u001b[0m\u001b[0m\n\u001b[0m\u001b[1;32m    382\u001b[0m         \u001b[0;32mexcept\u001b[0m \u001b[0;34m(\u001b[0m\u001b[0mSocketTimeout\u001b[0m\u001b[0;34m,\u001b[0m \u001b[0mBaseSSLError\u001b[0m\u001b[0;34m)\u001b[0m \u001b[0;32mas\u001b[0m \u001b[0me\u001b[0m\u001b[0;34m:\u001b[0m\u001b[0;34m\u001b[0m\u001b[0;34m\u001b[0m\u001b[0m\n\u001b[1;32m    383\u001b[0m             \u001b[0;31m# Py2 raises this as a BaseSSLError, Py3 raises it as socket timeout.\u001b[0m\u001b[0;34m\u001b[0m\u001b[0;34m\u001b[0m\u001b[0;34m\u001b[0m\u001b[0m\n",
      "\u001b[0;32m~/opt/anaconda3/lib/python3.8/site-packages/urllib3/connectionpool.py\u001b[0m in \u001b[0;36m_validate_conn\u001b[0;34m(self, conn)\u001b[0m\n\u001b[1;32m    976\u001b[0m         \u001b[0;31m# Force connect early to allow us to validate the connection.\u001b[0m\u001b[0;34m\u001b[0m\u001b[0;34m\u001b[0m\u001b[0;34m\u001b[0m\u001b[0m\n\u001b[1;32m    977\u001b[0m         \u001b[0;32mif\u001b[0m \u001b[0;32mnot\u001b[0m \u001b[0mgetattr\u001b[0m\u001b[0;34m(\u001b[0m\u001b[0mconn\u001b[0m\u001b[0;34m,\u001b[0m \u001b[0;34m\"sock\"\u001b[0m\u001b[0;34m,\u001b[0m \u001b[0;32mNone\u001b[0m\u001b[0;34m)\u001b[0m\u001b[0;34m:\u001b[0m  \u001b[0;31m# AppEngine might not have  `.sock`\u001b[0m\u001b[0;34m\u001b[0m\u001b[0;34m\u001b[0m\u001b[0m\n\u001b[0;32m--> 978\u001b[0;31m             \u001b[0mconn\u001b[0m\u001b[0;34m.\u001b[0m\u001b[0mconnect\u001b[0m\u001b[0;34m(\u001b[0m\u001b[0;34m)\u001b[0m\u001b[0;34m\u001b[0m\u001b[0;34m\u001b[0m\u001b[0m\n\u001b[0m\u001b[1;32m    979\u001b[0m \u001b[0;34m\u001b[0m\u001b[0m\n\u001b[1;32m    980\u001b[0m         \u001b[0;32mif\u001b[0m \u001b[0;32mnot\u001b[0m \u001b[0mconn\u001b[0m\u001b[0;34m.\u001b[0m\u001b[0mis_verified\u001b[0m\u001b[0;34m:\u001b[0m\u001b[0;34m\u001b[0m\u001b[0;34m\u001b[0m\u001b[0m\n",
      "\u001b[0;32m~/opt/anaconda3/lib/python3.8/site-packages/urllib3/connection.py\u001b[0m in \u001b[0;36mconnect\u001b[0;34m(self)\u001b[0m\n\u001b[1;32m    307\u001b[0m     \u001b[0;32mdef\u001b[0m \u001b[0mconnect\u001b[0m\u001b[0;34m(\u001b[0m\u001b[0mself\u001b[0m\u001b[0;34m)\u001b[0m\u001b[0;34m:\u001b[0m\u001b[0;34m\u001b[0m\u001b[0;34m\u001b[0m\u001b[0m\n\u001b[1;32m    308\u001b[0m         \u001b[0;31m# Add certificate verification\u001b[0m\u001b[0;34m\u001b[0m\u001b[0;34m\u001b[0m\u001b[0;34m\u001b[0m\u001b[0m\n\u001b[0;32m--> 309\u001b[0;31m         \u001b[0mconn\u001b[0m \u001b[0;34m=\u001b[0m \u001b[0mself\u001b[0m\u001b[0;34m.\u001b[0m\u001b[0m_new_conn\u001b[0m\u001b[0;34m(\u001b[0m\u001b[0;34m)\u001b[0m\u001b[0;34m\u001b[0m\u001b[0;34m\u001b[0m\u001b[0m\n\u001b[0m\u001b[1;32m    310\u001b[0m         \u001b[0mhostname\u001b[0m \u001b[0;34m=\u001b[0m \u001b[0mself\u001b[0m\u001b[0;34m.\u001b[0m\u001b[0mhost\u001b[0m\u001b[0;34m\u001b[0m\u001b[0;34m\u001b[0m\u001b[0m\n\u001b[1;32m    311\u001b[0m \u001b[0;34m\u001b[0m\u001b[0m\n",
      "\u001b[0;32m~/opt/anaconda3/lib/python3.8/site-packages/urllib3/connection.py\u001b[0m in \u001b[0;36m_new_conn\u001b[0;34m(self)\u001b[0m\n\u001b[1;32m    157\u001b[0m \u001b[0;34m\u001b[0m\u001b[0m\n\u001b[1;32m    158\u001b[0m         \u001b[0;32mtry\u001b[0m\u001b[0;34m:\u001b[0m\u001b[0;34m\u001b[0m\u001b[0;34m\u001b[0m\u001b[0m\n\u001b[0;32m--> 159\u001b[0;31m             conn = connection.create_connection(\n\u001b[0m\u001b[1;32m    160\u001b[0m                 \u001b[0;34m(\u001b[0m\u001b[0mself\u001b[0m\u001b[0;34m.\u001b[0m\u001b[0m_dns_host\u001b[0m\u001b[0;34m,\u001b[0m \u001b[0mself\u001b[0m\u001b[0;34m.\u001b[0m\u001b[0mport\u001b[0m\u001b[0;34m)\u001b[0m\u001b[0;34m,\u001b[0m \u001b[0mself\u001b[0m\u001b[0;34m.\u001b[0m\u001b[0mtimeout\u001b[0m\u001b[0;34m,\u001b[0m \u001b[0;34m**\u001b[0m\u001b[0mextra_kw\u001b[0m\u001b[0;34m\u001b[0m\u001b[0;34m\u001b[0m\u001b[0m\n\u001b[1;32m    161\u001b[0m             )\n",
      "\u001b[0;32m~/opt/anaconda3/lib/python3.8/site-packages/urllib3/util/connection.py\u001b[0m in \u001b[0;36mcreate_connection\u001b[0;34m(address, timeout, source_address, socket_options)\u001b[0m\n\u001b[1;32m     72\u001b[0m             \u001b[0;32mif\u001b[0m \u001b[0msource_address\u001b[0m\u001b[0;34m:\u001b[0m\u001b[0;34m\u001b[0m\u001b[0;34m\u001b[0m\u001b[0m\n\u001b[1;32m     73\u001b[0m                 \u001b[0msock\u001b[0m\u001b[0;34m.\u001b[0m\u001b[0mbind\u001b[0m\u001b[0;34m(\u001b[0m\u001b[0msource_address\u001b[0m\u001b[0;34m)\u001b[0m\u001b[0;34m\u001b[0m\u001b[0;34m\u001b[0m\u001b[0m\n\u001b[0;32m---> 74\u001b[0;31m             \u001b[0msock\u001b[0m\u001b[0;34m.\u001b[0m\u001b[0mconnect\u001b[0m\u001b[0;34m(\u001b[0m\u001b[0msa\u001b[0m\u001b[0;34m)\u001b[0m\u001b[0;34m\u001b[0m\u001b[0;34m\u001b[0m\u001b[0m\n\u001b[0m\u001b[1;32m     75\u001b[0m             \u001b[0;32mreturn\u001b[0m \u001b[0msock\u001b[0m\u001b[0;34m\u001b[0m\u001b[0;34m\u001b[0m\u001b[0m\n\u001b[1;32m     76\u001b[0m \u001b[0;34m\u001b[0m\u001b[0m\n",
      "\u001b[0;31mKeyboardInterrupt\u001b[0m: "
     ]
    }
   ],
   "source": [
    "link = ['https://www.flipkart.com/half-girlfriend/product-reviews/itmffugy6f7yvcdt?pid=9789551718114&lid=LSTBOK97895517181145ZWBZW&marketplace=FLIPKART',\n",
    "        'https://www.flipkart.com/half-girlfriend/product-reviews/itm309299e5fd828?pid=9788129124029&lid=LSTBOK9788129124029N6KB0G&marketplace=FLIPKART']\n",
    "dataset_5 = []\n",
    "\n",
    "for idx, url in enumerate(tqdm(link, desc='products')):\n",
    "    # iterating over review pages\n",
    "    for i in tqdm(range(1,2000+1), desc=\"review pages\", position=0, leave=False):\n",
    "        parsed = urlparse.urlparse(url)\n",
    "        pid = parse_qs(parsed.query)['pid'][0]\n",
    "        URL = f\"{url}&page={i}\"\n",
    "        \n",
    "        r = requests.get(URL)\n",
    "        \n",
    "        # Pause the loop for 0-1 seconds to simulate natural setting not overwhelm the server with back to back requests without any pause\n",
    "        sleep(1)\n",
    "        soup = BeautifulSoup(r.content, 'html.parser') \n",
    "        \n",
    "        rows = soup.find_all('div',attrs={'class':'col _2wzgFH K0kLPL'})\n",
    "\n",
    "        for row in rows:\n",
    "\n",
    "            # finding all rows within the block\n",
    "            sub_row = row.find_all('div',attrs={'class':'row'})\n",
    "\n",
    "            # extracting text from 1st 2nd and 4th row\n",
    "            rating = sub_row[0].find('div').text\n",
    "            \n",
    "            summary = sub_row[0].find('p').text\n",
    "            summary = summary.strip()\n",
    "            \n",
    "            review = sub_row[1].find_all('div')[2].text\n",
    "            review = review.strip()\n",
    "\n",
    "            # appending to data\n",
    "            dataset_5.append({'product_id':pid, 'rating': rating, 'summary': summary, 'review': review})"
   ]
  },
  {
   "cell_type": "code",
   "execution_count": 8,
   "metadata": {},
   "outputs": [
    {
     "data": {
      "text/html": [
       "<div>\n",
       "<style scoped>\n",
       "    .dataframe tbody tr th:only-of-type {\n",
       "        vertical-align: middle;\n",
       "    }\n",
       "\n",
       "    .dataframe tbody tr th {\n",
       "        vertical-align: top;\n",
       "    }\n",
       "\n",
       "    .dataframe thead th {\n",
       "        text-align: right;\n",
       "    }\n",
       "</style>\n",
       "<table border=\"1\" class=\"dataframe\">\n",
       "  <thead>\n",
       "    <tr style=\"text-align: right;\">\n",
       "      <th></th>\n",
       "      <th>product_id</th>\n",
       "      <th>rating</th>\n",
       "      <th>summary</th>\n",
       "      <th>review</th>\n",
       "    </tr>\n",
       "  </thead>\n",
       "  <tbody>\n",
       "    <tr>\n",
       "      <th>0</th>\n",
       "      <td>9789551718114</td>\n",
       "      <td>5</td>\n",
       "      <td>Worth every penny</td>\n",
       "      <td>Totally loved it .. You are a fabulous writer sir .. It's really a magnificent story of unconditional love .. At last it made me cry when Madhav found Riya .. It was my best book purchase ever ..</td>\n",
       "    </tr>\n",
       "    <tr>\n",
       "      <th>1</th>\n",
       "      <td>9789551718114</td>\n",
       "      <td>5</td>\n",
       "      <td>Worth every penny</td>\n",
       "      <td>Never read such a nice story. Loved the book. Everybody must love like Madhav Jha in life and get a prettiest girl like Riya Somani. Lovely story !!!!</td>\n",
       "    </tr>\n",
       "    <tr>\n",
       "      <th>2</th>\n",
       "      <td>9789551718114</td>\n",
       "      <td>5</td>\n",
       "      <td>Mind-blowing purchase</td>\n",
       "      <td>Thank you flipkart. I love this book 📙. I want to see half girlfriend movie bt I can't get it from anywhere finally I bought this through flipkart, read it with only 2and a half day bcoz of my curiosity for half girlfriend. Apart from that, first time I read a book of chetan bhagat. I want to enrich my English language and vocabulary so I preffered mostly English books, before this I bought the book 3 men in a boat by Jerome K Jerome. I don't like that book bcoz of its bad content  felt me v...</td>\n",
       "    </tr>\n",
       "    <tr>\n",
       "      <th>3</th>\n",
       "      <td>9789551718114</td>\n",
       "      <td>1</td>\n",
       "      <td>Horrible</td>\n",
       "      <td>Delivery charge is very high.</td>\n",
       "    </tr>\n",
       "    <tr>\n",
       "      <th>4</th>\n",
       "      <td>9789551718114</td>\n",
       "      <td>5</td>\n",
       "      <td>Classy product</td>\n",
       "      <td>One real massive luv storyI can assure that no one can express a simple luv story better than chetan</td>\n",
       "    </tr>\n",
       "  </tbody>\n",
       "</table>\n",
       "</div>"
      ],
      "text/plain": [
       "      product_id rating                summary  \\\n",
       "0  9789551718114  5      Worth every penny       \n",
       "1  9789551718114  5      Worth every penny       \n",
       "2  9789551718114  5      Mind-blowing purchase   \n",
       "3  9789551718114  1      Horrible                \n",
       "4  9789551718114  5      Classy product          \n",
       "\n",
       "                                                                                                                                                                                                                                                                                                                                                                                                                                                                                                                review  \n",
       "0  Totally loved it .. You are a fabulous writer sir .. It's really a magnificent story of unconditional love .. At last it made me cry when Madhav found Riya .. It was my best book purchase ever ..                                                                                                                                                                                                                                                                                                                  \n",
       "1  Never read such a nice story. Loved the book. Everybody must love like Madhav Jha in life and get a prettiest girl like Riya Somani. Lovely story !!!!                                                                                                                                                                                                                                                                                                                                                               \n",
       "2  Thank you flipkart. I love this book 📙. I want to see half girlfriend movie bt I can't get it from anywhere finally I bought this through flipkart, read it with only 2and a half day bcoz of my curiosity for half girlfriend. Apart from that, first time I read a book of chetan bhagat. I want to enrich my English language and vocabulary so I preffered mostly English books, before this I bought the book 3 men in a boat by Jerome K Jerome. I don't like that book bcoz of its bad content  felt me v...  \n",
       "3  Delivery charge is very high.                                                                                                                                                                                                                                                                                                                                                                                                                                                                                        \n",
       "4  One real massive luv storyI can assure that no one can express a simple luv story better than chetan                                                                                                                                                                                                                                                                                                                                                                                                                 "
      ]
     },
     "metadata": {},
     "output_type": "display_data"
    },
    {
     "data": {
      "text/html": [
       "<div>\n",
       "<style scoped>\n",
       "    .dataframe tbody tr th:only-of-type {\n",
       "        vertical-align: middle;\n",
       "    }\n",
       "\n",
       "    .dataframe tbody tr th {\n",
       "        vertical-align: top;\n",
       "    }\n",
       "\n",
       "    .dataframe thead th {\n",
       "        text-align: right;\n",
       "    }\n",
       "</style>\n",
       "<table border=\"1\" class=\"dataframe\">\n",
       "  <thead>\n",
       "    <tr style=\"text-align: right;\">\n",
       "      <th></th>\n",
       "      <th>product_id</th>\n",
       "      <th>rating</th>\n",
       "      <th>summary</th>\n",
       "      <th>review</th>\n",
       "    </tr>\n",
       "  </thead>\n",
       "  <tbody>\n",
       "    <tr>\n",
       "      <th>3727</th>\n",
       "      <td>9788129124029</td>\n",
       "      <td>4</td>\n",
       "      <td>Just sayin'</td>\n",
       "      <td>I was one of the first to go for the pre-order of this book, still I haven't got a signed copy as was the offer when I ordered the book. The delivery was right on time, everything was good. But, the thing for which I ordered so early went in vain... What happened flipkart? How many copies did he sign himself?</td>\n",
       "    </tr>\n",
       "    <tr>\n",
       "      <th>3728</th>\n",
       "      <td>9788129124029</td>\n",
       "      <td>3</td>\n",
       "      <td>disappointed</td>\n",
       "      <td>autographed copies for customers who pre order was promised. i didnt get it the autographed one. packing is just normal . homeshop 18 is better. no book marks nothing.3 stars jus for the book and the author. nothing for flipkart.</td>\n",
       "    </tr>\n",
       "    <tr>\n",
       "      <th>3729</th>\n",
       "      <td>9788129124029</td>\n",
       "      <td>4</td>\n",
       "      <td>20 Pages MISSING?????</td>\n",
       "      <td>Received the book...but it seems 20 pages are missing. Book i recd have 260 pages whereas flipkart show Length: 280 pages. Not yet read the book, so rating's are like that only...</td>\n",
       "    </tr>\n",
       "    <tr>\n",
       "      <th>3730</th>\n",
       "      <td>9788129124029</td>\n",
       "      <td>2</td>\n",
       "      <td>AUTHOR AUTOGRAPH IS ABSENT ON PRE-ORDERED COPIES</td>\n",
       "      <td>FLIPKART SAID PRE-ORDERED BOOKS ARE AUTOGRAPHED BY AUTHOR CHETAN BHAGAT.. I RECIEVED WITH BLANK...DISSAPPOINTED COZ NOT UP FOR WORD..</td>\n",
       "    </tr>\n",
       "    <tr>\n",
       "      <th>3731</th>\n",
       "      <td>9788129124029</td>\n",
       "      <td>3</td>\n",
       "      <td>Book is good.. Flipkart not!</td>\n",
       "      <td>Had pre-ordered this book way long back in August, the day it was announced. Flipkart had also mentioned that the first pre orders would received signed copies by Chetan Bhagat. Guess what, mine arrived yesterday and it's not a signed copy!! This sucks!About the book: it's a very good read just like every other Chetan Bhagat book.. I started reading it yesterday noon and was hooked to it and completed reading the book by midnight with few breaks in between.. It's a must read! Go ahead and b...</td>\n",
       "    </tr>\n",
       "  </tbody>\n",
       "</table>\n",
       "</div>"
      ],
      "text/plain": [
       "         product_id rating                                           summary  \\\n",
       "3727  9788129124029  4      Just sayin'                                        \n",
       "3728  9788129124029  3      disappointed                                       \n",
       "3729  9788129124029  4      20 Pages MISSING?????                              \n",
       "3730  9788129124029  2      AUTHOR AUTOGRAPH IS ABSENT ON PRE-ORDERED COPIES   \n",
       "3731  9788129124029  3      Book is good.. Flipkart not!                       \n",
       "\n",
       "                                                                                                                                                                                                                                                                                                                                                                                                                                                                                                                  review  \n",
       "3727  I was one of the first to go for the pre-order of this book, still I haven't got a signed copy as was the offer when I ordered the book. The delivery was right on time, everything was good. But, the thing for which I ordered so early went in vain... What happened flipkart? How many copies did he sign himself?                                                                                                                                                                                              \n",
       "3728  autographed copies for customers who pre order was promised. i didnt get it the autographed one. packing is just normal . homeshop 18 is better. no book marks nothing.3 stars jus for the book and the author. nothing for flipkart.                                                                                                                                                                                                                                                                               \n",
       "3729  Received the book...but it seems 20 pages are missing. Book i recd have 260 pages whereas flipkart show Length: 280 pages. Not yet read the book, so rating's are like that only...                                                                                                                                                                                                                                                                                                                                 \n",
       "3730  FLIPKART SAID PRE-ORDERED BOOKS ARE AUTOGRAPHED BY AUTHOR CHETAN BHAGAT.. I RECIEVED WITH BLANK...DISSAPPOINTED COZ NOT UP FOR WORD..                                                                                                                                                                                                                                                                                                                                                                               \n",
       "3731  Had pre-ordered this book way long back in August, the day it was announced. Flipkart had also mentioned that the first pre orders would received signed copies by Chetan Bhagat. Guess what, mine arrived yesterday and it's not a signed copy!! This sucks!About the book: it's a very good read just like every other Chetan Bhagat book.. I started reading it yesterday noon and was hooked to it and completed reading the book by midnight with few breaks in between.. It's a must read! Go ahead and b...  "
      ]
     },
     "metadata": {},
     "output_type": "display_data"
    }
   ],
   "source": [
    "df5 = pd.DataFrame(dataset_5)\n",
    "\n",
    "with pd.option_context('display.max_colwidth', -1):\n",
    "    display(df5.head(5))\n",
    "    display(df5.tail(5))"
   ]
  },
  {
   "cell_type": "code",
   "execution_count": 9,
   "metadata": {},
   "outputs": [],
   "source": [
    "df5.to_csv('/Users/kritya/Desktop/College/SEM 7/Project Phase 1/DS/FYP - FlipBook5.csv')"
   ]
  },
  {
   "cell_type": "code",
   "execution_count": null,
   "metadata": {},
   "outputs": [],
   "source": []
  },
  {
   "cell_type": "code",
   "execution_count": null,
   "metadata": {},
   "outputs": [],
   "source": [
    "# DS-6"
   ]
  },
  {
   "cell_type": "code",
   "execution_count": 4,
   "metadata": {},
   "outputs": [
    {
     "data": {
      "application/vnd.jupyter.widget-view+json": {
       "model_id": "e9f300184b7e44b5a1916e56fbae4096",
       "version_major": 2,
       "version_minor": 0
      },
      "text/plain": [
       "HBox(children=(HTML(value='products'), FloatProgress(value=0.0, max=1.0), HTML(value='')))"
      ]
     },
     "metadata": {},
     "output_type": "display_data"
    },
    {
     "data": {
      "application/vnd.jupyter.widget-view+json": {
       "model_id": "b98ef2393a40411984fd493c7d0b5a41",
       "version_major": 2,
       "version_minor": 0
      },
      "text/plain": [
       "HBox(children=(HTML(value='review pages'), FloatProgress(value=0.0, max=5000.0), HTML(value='')))"
      ]
     },
     "metadata": {},
     "output_type": "display_data"
    },
    {
     "name": "stdout",
     "output_type": "stream",
     "text": [
      "\n"
     ]
    },
    {
     "ename": "KeyboardInterrupt",
     "evalue": "",
     "output_type": "error",
     "traceback": [
      "\u001b[0;31m---------------------------------------------------------------------------\u001b[0m",
      "\u001b[0;31mKeyboardInterrupt\u001b[0m                         Traceback (most recent call last)",
      "\u001b[0;32m<ipython-input-4-0117b27c064e>\u001b[0m in \u001b[0;36m<module>\u001b[0;34m\u001b[0m\n\u001b[1;32m     12\u001b[0m \u001b[0;34m\u001b[0m\u001b[0m\n\u001b[1;32m     13\u001b[0m         \u001b[0;31m# Pause the loop for 0-1 seconds to simulate natural setting not overwhelm the server with back to back requests without any pause\u001b[0m\u001b[0;34m\u001b[0m\u001b[0;34m\u001b[0m\u001b[0;34m\u001b[0m\u001b[0m\n\u001b[0;32m---> 14\u001b[0;31m         \u001b[0msleep\u001b[0m\u001b[0;34m(\u001b[0m\u001b[0;36m2\u001b[0m\u001b[0;34m)\u001b[0m\u001b[0;34m\u001b[0m\u001b[0;34m\u001b[0m\u001b[0m\n\u001b[0m\u001b[1;32m     15\u001b[0m         \u001b[0msoup\u001b[0m \u001b[0;34m=\u001b[0m \u001b[0mBeautifulSoup\u001b[0m\u001b[0;34m(\u001b[0m\u001b[0mr\u001b[0m\u001b[0;34m.\u001b[0m\u001b[0mcontent\u001b[0m\u001b[0;34m,\u001b[0m \u001b[0;34m'html.parser'\u001b[0m\u001b[0;34m)\u001b[0m\u001b[0;34m\u001b[0m\u001b[0;34m\u001b[0m\u001b[0m\n\u001b[1;32m     16\u001b[0m \u001b[0;34m\u001b[0m\u001b[0m\n",
      "\u001b[0;31mKeyboardInterrupt\u001b[0m: "
     ]
    }
   ],
   "source": [
    "link = ['https://www.flipkart.com/one-indian-girl/product-reviews/itm97bff2ed4a5b2?pid=9788129142146&lid=LSTBOK9788129142146N3YMFX&marketplace=FLIPKART']\n",
    "dataset_6 = []\n",
    "\n",
    "for idx, url in enumerate(tqdm(link, desc='products')):\n",
    "    # iterating over review pages\n",
    "    for i in tqdm(range(1,5000+1), desc=\"review pages\", position=0, leave=False):\n",
    "        parsed = urlparse.urlparse(url)\n",
    "        pid = parse_qs(parsed.query)['pid'][0]\n",
    "        URL = f\"{url}&page={i}\"\n",
    "        \n",
    "        r = requests.get(URL)\n",
    "        \n",
    "        # Pause the loop for 0-1 seconds to simulate natural setting not overwhelm the server with back to back requests without any pause\n",
    "        sleep(2)\n",
    "        soup = BeautifulSoup(r.content, 'html.parser') \n",
    "        \n",
    "        rows = soup.find_all('div',attrs={'class':'col _2wzgFH K0kLPL'})\n",
    "\n",
    "        for row in rows:\n",
    "\n",
    "            # finding all rows within the block\n",
    "            sub_row = row.find_all('div',attrs={'class':'row'})\n",
    "\n",
    "            # extracting text from 1st 2nd and 4th row\n",
    "            rating = sub_row[0].find('div').text\n",
    "            \n",
    "            summary = sub_row[0].find('p').text\n",
    "            summary = summary.strip()\n",
    "            \n",
    "            review = sub_row[1].find_all('div')[2].text\n",
    "            review = review.strip()\n",
    "\n",
    "            # appending to data\n",
    "            dataset_6.append({'product_id':pid, 'rating': rating, 'summary': summary, 'review': review})"
   ]
  },
  {
   "cell_type": "code",
   "execution_count": 5,
   "metadata": {},
   "outputs": [
    {
     "data": {
      "text/html": [
       "<div>\n",
       "<style scoped>\n",
       "    .dataframe tbody tr th:only-of-type {\n",
       "        vertical-align: middle;\n",
       "    }\n",
       "\n",
       "    .dataframe tbody tr th {\n",
       "        vertical-align: top;\n",
       "    }\n",
       "\n",
       "    .dataframe thead th {\n",
       "        text-align: right;\n",
       "    }\n",
       "</style>\n",
       "<table border=\"1\" class=\"dataframe\">\n",
       "  <thead>\n",
       "    <tr style=\"text-align: right;\">\n",
       "      <th></th>\n",
       "      <th>product_id</th>\n",
       "      <th>rating</th>\n",
       "      <th>summary</th>\n",
       "      <th>review</th>\n",
       "    </tr>\n",
       "  </thead>\n",
       "  <tbody>\n",
       "    <tr>\n",
       "      <th>0</th>\n",
       "      <td>9788129142146</td>\n",
       "      <td>5</td>\n",
       "      <td>Brilliant</td>\n",
       "      <td>Firstlly chetan sir , i was so excited for the book and my excitment gets double n triple with every next chapter i turned. ..i felt its me....radhika character &amp; her decision is what i did just a bit different...thank you for such a beautiful writings ...looking forward to your movie...all the best.</td>\n",
       "    </tr>\n",
       "    <tr>\n",
       "      <th>1</th>\n",
       "      <td>9788129142146</td>\n",
       "      <td>3</td>\n",
       "      <td>Read it if u r a girl or if u r man enough to read about a n</td>\n",
       "      <td>Radhika Mishra is One Indian girl who is intelligent and smart. She works for Goldman Sacks in a foreign land and earns a lot of money. She has had two boyfriends – a creative Bengali boy (Debashish Sen) and a married boss (Neel Gupta) who is two decades older. But Radhika is not lucky in love. She breaks up with both of them for almost similar reasons (don’t ask me what it is because it could be a spoiler). She finally gives in for family pressure and settles for arranged marriag...</td>\n",
       "    </tr>\n",
       "    <tr>\n",
       "      <th>2</th>\n",
       "      <td>9788129142146</td>\n",
       "      <td>1</td>\n",
       "      <td>Expected a better product</td>\n",
       "      <td>Dear Chetan Bhagat this book story is very good thats a good point, but i rated it 2 star because we don't want a film script every time coz this story will be a  script of another upcoming bollywood movie so u better write film scripts only n start producing films also that will be a better buiness. No more film scripts in a book format plz n one more request plz avoid sex adventures in your next film script coz its a common part which we find in your scripts. And this book story can be easi...</td>\n",
       "    </tr>\n",
       "    <tr>\n",
       "      <th>3</th>\n",
       "      <td>9788129142146</td>\n",
       "      <td>1</td>\n",
       "      <td>Very predictable story</td>\n",
       "      <td>My first book of the writer was \"2 states\". I instantly became a fan of him. Next was \"3mistakes of my life\". It was also good. But in case of \" R2020\" , \"half gf\" and this book I personally feel that the writer has not anything left new to share with his  readers. The same writing style-the same way to narrate a story it felt like I'm walking down the same road. And about feminism-the USP of the book--I don't think that it works in the way as it shows!</td>\n",
       "    </tr>\n",
       "    <tr>\n",
       "      <th>4</th>\n",
       "      <td>9788129142146</td>\n",
       "      <td>5</td>\n",
       "      <td>Terrific purchase</td>\n",
       "      <td>It is really a nice book.... thanks to Chetan Sir...Delivery was excellent...I got it in 1 day advance...The book came in very good condition.... fully seal packed... Best of luck Flipkart</td>\n",
       "    </tr>\n",
       "  </tbody>\n",
       "</table>\n",
       "</div>"
      ],
      "text/plain": [
       "      product_id rating  \\\n",
       "0  9788129142146  5       \n",
       "1  9788129142146  3       \n",
       "2  9788129142146  1       \n",
       "3  9788129142146  1       \n",
       "4  9788129142146  5       \n",
       "\n",
       "                                                        summary  \\\n",
       "0  Brilliant                                                      \n",
       "1  Read it if u r a girl or if u r man enough to read about a n   \n",
       "2  Expected a better product                                      \n",
       "3  Very predictable story                                         \n",
       "4  Terrific purchase                                              \n",
       "\n",
       "                                                                                                                                                                                                                                                                                                                                                                                                                                                                                                                 review  \n",
       "0  Firstlly chetan sir , i was so excited for the book and my excitment gets double n triple with every next chapter i turned. ..i felt its me....radhika character & her decision is what i did just a bit different...thank you for such a beautiful writings ...looking forward to your movie...all the best.                                                                                                                                                                                                         \n",
       "1  Radhika Mishra is One Indian girl who is intelligent and smart. She works for Goldman Sacks in a foreign land and earns a lot of money. She has had two boyfriends – a creative Bengali boy (Debashish Sen) and a married boss (Neel Gupta) who is two decades older. But Radhika is not lucky in love. She breaks up with both of them for almost similar reasons (don’t ask me what it is because it could be a spoiler). She finally gives in for family pressure and settles for arranged marriag...              \n",
       "2  Dear Chetan Bhagat this book story is very good thats a good point, but i rated it 2 star because we don't want a film script every time coz this story will be a  script of another upcoming bollywood movie so u better write film scripts only n start producing films also that will be a better buiness. No more film scripts in a book format plz n one more request plz avoid sex adventures in your next film script coz its a common part which we find in your scripts. And this book story can be easi...  \n",
       "3  My first book of the writer was \"2 states\". I instantly became a fan of him. Next was \"3mistakes of my life\". It was also good. But in case of \" R2020\" , \"half gf\" and this book I personally feel that the writer has not anything left new to share with his  readers. The same writing style-the same way to narrate a story it felt like I'm walking down the same road. And about feminism-the USP of the book--I don't think that it works in the way as it shows!                                             \n",
       "4  It is really a nice book.... thanks to Chetan Sir...Delivery was excellent...I got it in 1 day advance...The book came in very good condition.... fully seal packed... Best of luck Flipkart                                                                                                                                                                                                                                                                                                                          "
      ]
     },
     "metadata": {},
     "output_type": "display_data"
    },
    {
     "data": {
      "text/html": [
       "<div>\n",
       "<style scoped>\n",
       "    .dataframe tbody tr th:only-of-type {\n",
       "        vertical-align: middle;\n",
       "    }\n",
       "\n",
       "    .dataframe tbody tr th {\n",
       "        vertical-align: top;\n",
       "    }\n",
       "\n",
       "    .dataframe thead th {\n",
       "        text-align: right;\n",
       "    }\n",
       "</style>\n",
       "<table border=\"1\" class=\"dataframe\">\n",
       "  <thead>\n",
       "    <tr style=\"text-align: right;\">\n",
       "      <th></th>\n",
       "      <th>product_id</th>\n",
       "      <th>rating</th>\n",
       "      <th>summary</th>\n",
       "      <th>review</th>\n",
       "    </tr>\n",
       "  </thead>\n",
       "  <tbody>\n",
       "    <tr>\n",
       "      <th>4567</th>\n",
       "      <td>9788129142146</td>\n",
       "      <td>5</td>\n",
       "      <td>Excellent</td>\n",
       "      <td>I really love flipkart!!!!!</td>\n",
       "    </tr>\n",
       "    <tr>\n",
       "      <th>4568</th>\n",
       "      <td>9788129142146</td>\n",
       "      <td>5</td>\n",
       "      <td>Just wow!</td>\n",
       "      <td>Just Started Reading ... Delivery agency great service</td>\n",
       "    </tr>\n",
       "    <tr>\n",
       "      <th>4569</th>\n",
       "      <td>9788129142146</td>\n",
       "      <td>5</td>\n",
       "      <td>Fabulous!</td>\n",
       "      <td>Nice packing and on time delivery....Chetan again made it</td>\n",
       "    </tr>\n",
       "    <tr>\n",
       "      <th>4570</th>\n",
       "      <td>9788129142146</td>\n",
       "      <td>5</td>\n",
       "      <td>Excellent</td>\n",
       "      <td>Got it for rs.1..........Thank you flipkart.</td>\n",
       "    </tr>\n",
       "    <tr>\n",
       "      <th>4571</th>\n",
       "      <td>9788129142146</td>\n",
       "      <td>5</td>\n",
       "      <td>Terrific</td>\n",
       "      <td>Quick service.</td>\n",
       "    </tr>\n",
       "  </tbody>\n",
       "</table>\n",
       "</div>"
      ],
      "text/plain": [
       "         product_id rating    summary  \\\n",
       "4567  9788129142146  5      Excellent   \n",
       "4568  9788129142146  5      Just wow!   \n",
       "4569  9788129142146  5      Fabulous!   \n",
       "4570  9788129142146  5      Excellent   \n",
       "4571  9788129142146  5      Terrific    \n",
       "\n",
       "                                                         review  \n",
       "4567  I really love flipkart!!!!!                                \n",
       "4568  Just Started Reading ... Delivery agency great service     \n",
       "4569  Nice packing and on time delivery....Chetan again made it  \n",
       "4570  Got it for rs.1..........Thank you flipkart.               \n",
       "4571  Quick service.                                             "
      ]
     },
     "metadata": {},
     "output_type": "display_data"
    }
   ],
   "source": [
    "df6 = pd.DataFrame(dataset_6)\n",
    "\n",
    "with pd.option_context('display.max_colwidth', -1):\n",
    "    display(df6.head(5))\n",
    "    display(df6.tail(5))\n",
    "\n",
    "df6.to_csv('/Users/kritya/Desktop/College/SEM 7/Project Phase 1/DS/FYP - FlipBook6.csv')"
   ]
  },
  {
   "cell_type": "code",
   "execution_count": null,
   "metadata": {},
   "outputs": [],
   "source": []
  },
  {
   "cell_type": "code",
   "execution_count": null,
   "metadata": {},
   "outputs": [],
   "source": [
    "# DS-7"
   ]
  },
  {
   "cell_type": "code",
   "execution_count": 6,
   "metadata": {},
   "outputs": [
    {
     "data": {
      "application/vnd.jupyter.widget-view+json": {
       "model_id": "9cc8e880be024076ad7c38e505db262c",
       "version_major": 2,
       "version_minor": 0
      },
      "text/plain": [
       "HBox(children=(HTML(value='products'), FloatProgress(value=0.0, max=1.0), HTML(value='')))"
      ]
     },
     "metadata": {},
     "output_type": "display_data"
    },
    {
     "data": {
      "application/vnd.jupyter.widget-view+json": {
       "model_id": "68f517158f2d4cee9563f38615862e0b",
       "version_major": 2,
       "version_minor": 0
      },
      "text/plain": [
       "HBox(children=(HTML(value='review pages'), FloatProgress(value=0.0, max=5000.0), HTML(value='')))"
      ]
     },
     "metadata": {},
     "output_type": "display_data"
    },
    {
     "name": "stdout",
     "output_type": "stream",
     "text": [
      "\n"
     ]
    },
    {
     "ename": "KeyboardInterrupt",
     "evalue": "",
     "output_type": "error",
     "traceback": [
      "\u001b[0;31m---------------------------------------------------------------------------\u001b[0m",
      "\u001b[0;31mKeyboardInterrupt\u001b[0m                         Traceback (most recent call last)",
      "\u001b[0;32m<ipython-input-6-33e4d0ab1108>\u001b[0m in \u001b[0;36m<module>\u001b[0;34m\u001b[0m\n\u001b[1;32m     12\u001b[0m \u001b[0;34m\u001b[0m\u001b[0m\n\u001b[1;32m     13\u001b[0m         \u001b[0;31m# Pause the loop for 0-1 seconds to simulate natural setting not overwhelm the server with back to back requests without any pause\u001b[0m\u001b[0;34m\u001b[0m\u001b[0;34m\u001b[0m\u001b[0;34m\u001b[0m\u001b[0m\n\u001b[0;32m---> 14\u001b[0;31m         \u001b[0msleep\u001b[0m\u001b[0;34m(\u001b[0m\u001b[0;36m2\u001b[0m\u001b[0;34m)\u001b[0m\u001b[0;34m\u001b[0m\u001b[0;34m\u001b[0m\u001b[0m\n\u001b[0m\u001b[1;32m     15\u001b[0m         \u001b[0msoup\u001b[0m \u001b[0;34m=\u001b[0m \u001b[0mBeautifulSoup\u001b[0m\u001b[0;34m(\u001b[0m\u001b[0mr\u001b[0m\u001b[0;34m.\u001b[0m\u001b[0mcontent\u001b[0m\u001b[0;34m,\u001b[0m \u001b[0;34m'html.parser'\u001b[0m\u001b[0;34m)\u001b[0m\u001b[0;34m\u001b[0m\u001b[0;34m\u001b[0m\u001b[0m\n\u001b[1;32m     16\u001b[0m \u001b[0;34m\u001b[0m\u001b[0m\n",
      "\u001b[0;31mKeyboardInterrupt\u001b[0m: "
     ]
    }
   ],
   "source": [
    "link = ['https://www.flipkart.com/girl-room-105/product-reviews/itm162e2372adf06?pid=9781542040464&lid=LSTBOK9781542040464SHRSPR&marketplace=FLIPKART']\n",
    "dataset_7 = []\n",
    "\n",
    "for idx, url in enumerate(tqdm(link, desc='products')):\n",
    "    # iterating over review pages\n",
    "    for i in tqdm(range(1,5000+1), desc=\"review pages\", position=0, leave=False):\n",
    "        parsed = urlparse.urlparse(url)\n",
    "        pid = parse_qs(parsed.query)['pid'][0]\n",
    "        URL = f\"{url}&page={i}\"\n",
    "        \n",
    "        r = requests.get(URL)\n",
    "        \n",
    "        # Pause the loop for 0-1 seconds to simulate natural setting not overwhelm the server with back to back requests without any pause\n",
    "        sleep(2)\n",
    "        soup = BeautifulSoup(r.content, 'html.parser') \n",
    "        \n",
    "        rows = soup.find_all('div',attrs={'class':'col _2wzgFH K0kLPL'})\n",
    "\n",
    "        for row in rows:\n",
    "\n",
    "            # finding all rows within the block\n",
    "            sub_row = row.find_all('div',attrs={'class':'row'})\n",
    "\n",
    "            # extracting text from 1st 2nd and 4th row\n",
    "            rating = sub_row[0].find('div').text\n",
    "            \n",
    "            summary = sub_row[0].find('p').text\n",
    "            summary = summary.strip()\n",
    "            \n",
    "            review = sub_row[1].find_all('div')[2].text\n",
    "            review = review.strip()\n",
    "\n",
    "            # appending to data\n",
    "            dataset_7.append({'product_id':pid, 'rating': rating, 'summary': summary, 'review': review})"
   ]
  },
  {
   "cell_type": "code",
   "execution_count": 7,
   "metadata": {},
   "outputs": [
    {
     "data": {
      "text/html": [
       "<div>\n",
       "<style scoped>\n",
       "    .dataframe tbody tr th:only-of-type {\n",
       "        vertical-align: middle;\n",
       "    }\n",
       "\n",
       "    .dataframe tbody tr th {\n",
       "        vertical-align: top;\n",
       "    }\n",
       "\n",
       "    .dataframe thead th {\n",
       "        text-align: right;\n",
       "    }\n",
       "</style>\n",
       "<table border=\"1\" class=\"dataframe\">\n",
       "  <thead>\n",
       "    <tr style=\"text-align: right;\">\n",
       "      <th></th>\n",
       "      <th>product_id</th>\n",
       "      <th>rating</th>\n",
       "      <th>summary</th>\n",
       "      <th>review</th>\n",
       "    </tr>\n",
       "  </thead>\n",
       "  <tbody>\n",
       "    <tr>\n",
       "      <th>0</th>\n",
       "      <td>9781542040464</td>\n",
       "      <td>5</td>\n",
       "      <td>Terrific purchase</td>\n",
       "      <td>Chetan Bhagat sir. Seriously this is your best work. The way you represented an unlove story &amp; a murder mystery is worth reading. The characters, dialogues, locations &amp; everything about the book is amazing. And yes I can say now that 'The girl is room number 105' is my favourite book I've read so far. The story shows real faces of people which is hidden behind several layers. Finally, I enjoyed a lot &amp; would feel great to recommend the same to other readers. And hope more interesting books fr...</td>\n",
       "    </tr>\n",
       "    <tr>\n",
       "      <th>1</th>\n",
       "      <td>9781542040464</td>\n",
       "      <td>5</td>\n",
       "      <td>AWESOMENESS IN ITS OWN SWAG</td>\n",
       "      <td>one must be good enough to not let someone die just the thing one couldnt imagine that chetan bhagat could also do this stufflast pages were just like thrill making my spine shiver     ONE MORE AWESOME STORY BY CHETAN BHAGAT TO INDIAN READERS                           INDEED THE PAPERBACK KING                           LOVE FROM INDIA</td>\n",
       "    </tr>\n",
       "    <tr>\n",
       "      <th>2</th>\n",
       "      <td>9781542040464</td>\n",
       "      <td>5</td>\n",
       "      <td>Awesome</td>\n",
       "      <td>Loved it. It seemed like a de ja vu for me. We broke up in Oct 2016 after a 5year long intense relationship. Since then I couldn't love anybody else. Hope this unlove story will finally  bring back some love inside my heart.... 😒😁</td>\n",
       "    </tr>\n",
       "    <tr>\n",
       "      <th>3</th>\n",
       "      <td>9781542040464</td>\n",
       "      <td>4</td>\n",
       "      <td>Really Nice</td>\n",
       "      <td>Okay so TBH this is my second read of Chetan Bhagat's novel after One Indian Girl. The story is very engaging . The plot and twist was good . One thing I felt while reading the novel(Also happened with the previous that I read),I could able to create a imaginary scenes in my mind,like movies ! There is some character like Keshav,Saurabh,That Gutkha Chewing Chandan Arora , I can relate with them as I also have seen this types of people like their nature and all although I can realate actually ...</td>\n",
       "    </tr>\n",
       "    <tr>\n",
       "      <th>4</th>\n",
       "      <td>9781542040464</td>\n",
       "      <td>4</td>\n",
       "      <td>Delightful</td>\n",
       "      <td>In my opinion, this is the 3rd best book of the writer right after 'Five Points Someone' and 'Revolution 2020'. This is an unputdownable mystery thriller. Not the best in this suspense category. If you are advance level reader and have already read Sidney Sheldon or Dan Brown and you have little common sense then you can easily guess who the killer is among all the skeptical charecters. In other words the plot is just so simple. It goes like this, the girl, here the victim, gets killed and he...</td>\n",
       "    </tr>\n",
       "  </tbody>\n",
       "</table>\n",
       "</div>"
      ],
      "text/plain": [
       "      product_id rating                      summary  \\\n",
       "0  9781542040464  5      Terrific purchase             \n",
       "1  9781542040464  5      AWESOMENESS IN ITS OWN SWAG   \n",
       "2  9781542040464  5      Awesome                       \n",
       "3  9781542040464  4      Really Nice                   \n",
       "4  9781542040464  4      Delightful                    \n",
       "\n",
       "                                                                                                                                                                                                                                                                                                                                                                                                                                                                                                                 review  \n",
       "0  Chetan Bhagat sir. Seriously this is your best work. The way you represented an unlove story & a murder mystery is worth reading. The characters, dialogues, locations & everything about the book is amazing. And yes I can say now that 'The girl is room number 105' is my favourite book I've read so far. The story shows real faces of people which is hidden behind several layers. Finally, I enjoyed a lot & would feel great to recommend the same to other readers. And hope more interesting books fr...  \n",
       "1  one must be good enough to not let someone die just the thing one couldnt imagine that chetan bhagat could also do this stufflast pages were just like thrill making my spine shiver     ONE MORE AWESOME STORY BY CHETAN BHAGAT TO INDIAN READERS                           INDEED THE PAPERBACK KING                           LOVE FROM INDIA                                                                                                                                                                      \n",
       "2  Loved it. It seemed like a de ja vu for me. We broke up in Oct 2016 after a 5year long intense relationship. Since then I couldn't love anybody else. Hope this unlove story will finally  bring back some love inside my heart.... 😒😁                                                                                                                                                                                                                                                                                \n",
       "3  Okay so TBH this is my second read of Chetan Bhagat's novel after One Indian Girl. The story is very engaging . The plot and twist was good . One thing I felt while reading the novel(Also happened with the previous that I read),I could able to create a imaginary scenes in my mind,like movies ! There is some character like Keshav,Saurabh,That Gutkha Chewing Chandan Arora , I can relate with them as I also have seen this types of people like their nature and all although I can realate actually ...  \n",
       "4  In my opinion, this is the 3rd best book of the writer right after 'Five Points Someone' and 'Revolution 2020'. This is an unputdownable mystery thriller. Not the best in this suspense category. If you are advance level reader and have already read Sidney Sheldon or Dan Brown and you have little common sense then you can easily guess who the killer is among all the skeptical charecters. In other words the plot is just so simple. It goes like this, the girl, here the victim, gets killed and he...  "
      ]
     },
     "metadata": {},
     "output_type": "display_data"
    },
    {
     "data": {
      "text/html": [
       "<div>\n",
       "<style scoped>\n",
       "    .dataframe tbody tr th:only-of-type {\n",
       "        vertical-align: middle;\n",
       "    }\n",
       "\n",
       "    .dataframe tbody tr th {\n",
       "        vertical-align: top;\n",
       "    }\n",
       "\n",
       "    .dataframe thead th {\n",
       "        text-align: right;\n",
       "    }\n",
       "</style>\n",
       "<table border=\"1\" class=\"dataframe\">\n",
       "  <thead>\n",
       "    <tr style=\"text-align: right;\">\n",
       "      <th></th>\n",
       "      <th>product_id</th>\n",
       "      <th>rating</th>\n",
       "      <th>summary</th>\n",
       "      <th>review</th>\n",
       "    </tr>\n",
       "  </thead>\n",
       "  <tbody>\n",
       "    <tr>\n",
       "      <th>3285</th>\n",
       "      <td>9781542040464</td>\n",
       "      <td>5</td>\n",
       "      <td>Awesome</td>\n",
       "      <td>LITERALLY FANTASTIC STORY,,, I LOVE CHETAN SIR,,</td>\n",
       "    </tr>\n",
       "    <tr>\n",
       "      <th>3286</th>\n",
       "      <td>9781542040464</td>\n",
       "      <td>4</td>\n",
       "      <td>Wonderful</td>\n",
       "      <td>looks good</td>\n",
       "    </tr>\n",
       "    <tr>\n",
       "      <th>3287</th>\n",
       "      <td>9781542040464</td>\n",
       "      <td>5</td>\n",
       "      <td>Best in the market!</td>\n",
       "      <td>This one's a must read! Such a thrilling story..Finished half the book in just a couple of hours and can't wait to read the rest!</td>\n",
       "    </tr>\n",
       "    <tr>\n",
       "      <th>3288</th>\n",
       "      <td>9781542040464</td>\n",
       "      <td>5</td>\n",
       "      <td>Brilliant</td>\n",
       "      <td>damn interesting!!! I loved the book..</td>\n",
       "    </tr>\n",
       "    <tr>\n",
       "      <th>3289</th>\n",
       "      <td>9781542040464</td>\n",
       "      <td>5</td>\n",
       "      <td>Fabulous!</td>\n",
       "      <td>It's always good to have a book of Chetan Bhagat simply owsome stories we had gone through now looking for more enjoyable concept.</td>\n",
       "    </tr>\n",
       "  </tbody>\n",
       "</table>\n",
       "</div>"
      ],
      "text/plain": [
       "         product_id rating              summary  \\\n",
       "3285  9781542040464  5      Awesome               \n",
       "3286  9781542040464  4      Wonderful             \n",
       "3287  9781542040464  5      Best in the market!   \n",
       "3288  9781542040464  5      Brilliant             \n",
       "3289  9781542040464  5      Fabulous!             \n",
       "\n",
       "                                                                                                                                  review  \n",
       "3285  LITERALLY FANTASTIC STORY,,, I LOVE CHETAN SIR,,                                                                                    \n",
       "3286  looks good                                                                                                                          \n",
       "3287  This one's a must read! Such a thrilling story..Finished half the book in just a couple of hours and can't wait to read the rest!   \n",
       "3288  damn interesting!!! I loved the book..                                                                                              \n",
       "3289  It's always good to have a book of Chetan Bhagat simply owsome stories we had gone through now looking for more enjoyable concept.  "
      ]
     },
     "metadata": {},
     "output_type": "display_data"
    }
   ],
   "source": [
    "df7 = pd.DataFrame(dataset_7)\n",
    "\n",
    "with pd.option_context('display.max_colwidth', -1):\n",
    "    display(df7.head(5))\n",
    "    display(df7.tail(5))\n",
    "\n",
    "df7.to_csv('/Users/kritya/Desktop/College/SEM 7/Project Phase 1/DS/FYP - FlipBook7.csv')"
   ]
  },
  {
   "cell_type": "code",
   "execution_count": null,
   "metadata": {},
   "outputs": [],
   "source": []
  },
  {
   "cell_type": "code",
   "execution_count": null,
   "metadata": {},
   "outputs": [],
   "source": [
    "# DS-8"
   ]
  },
  {
   "cell_type": "code",
   "execution_count": null,
   "metadata": {},
   "outputs": [
    {
     "data": {
      "application/vnd.jupyter.widget-view+json": {
       "model_id": "901dce2a945a4ac297dec16c90a137bd",
       "version_major": 2,
       "version_minor": 0
      },
      "text/plain": [
       "HBox(children=(HTML(value='products'), FloatProgress(value=0.0, max=1.0), HTML(value='')))"
      ]
     },
     "metadata": {},
     "output_type": "display_data"
    },
    {
     "data": {
      "application/vnd.jupyter.widget-view+json": {
       "model_id": "cb809701bb1e45fbbaa271d5d5b1c85c",
       "version_major": 2,
       "version_minor": 0
      },
      "text/plain": [
       "HBox(children=(HTML(value='review pages'), FloatProgress(value=0.0, max=5000.0), HTML(value='')))"
      ]
     },
     "metadata": {},
     "output_type": "display_data"
    }
   ],
   "source": [
    "link = ['https://www.flipkart.com/one-arranged-murder/product-reviews/itmb4cd0197e98ce?pid=9781542094139&lid=LSTBOK9781542094139A5FY6R&marketplace=FLIPKART']\n",
    "dataset_8 = []\n",
    "\n",
    "for idx, url in enumerate(tqdm(link, desc='products')):\n",
    "    # iterating over review pages\n",
    "    for i in tqdm(range(1,5000+1), desc=\"review pages\", position=0, leave=False):\n",
    "        parsed = urlparse.urlparse(url)\n",
    "        pid = parse_qs(parsed.query)['pid'][0]\n",
    "        URL = f\"{url}&page={i}\"\n",
    "        \n",
    "        r = requests.get(URL)\n",
    "        \n",
    "        # Pause the loop for 0-1 seconds to simulate natural setting not overwhelm the server with back to back requests without any pause\n",
    "        sleep(2)\n",
    "        soup = BeautifulSoup(r.content, 'html.parser') \n",
    "        \n",
    "        rows = soup.find_all('div',attrs={'class':'col _2wzgFH K0kLPL'})\n",
    "\n",
    "        for row in rows:\n",
    "\n",
    "            # finding all rows within the block\n",
    "            sub_row = row.find_all('div',attrs={'class':'row'})\n",
    "\n",
    "            # extracting text from 1st 2nd and 4th row\n",
    "            rating = sub_row[0].find('div').text\n",
    "            \n",
    "            summary = sub_row[0].find('p').text\n",
    "            summary = summary.strip()\n",
    "            \n",
    "            review = sub_row[1].find_all('div')[2].text\n",
    "            review = review.strip()\n",
    "\n",
    "            # appending to data\n",
    "            dataset_8.append({'product_id':pid, 'rating': rating, 'summary': summary, 'review': review})"
   ]
  },
  {
   "cell_type": "code",
   "execution_count": null,
   "metadata": {},
   "outputs": [],
   "source": [
    "df8 = pd.DataFrame(dataset_8)\n",
    "\n",
    "with pd.option_context('display.max_colwidth', -1):\n",
    "    display(df8.head(5))\n",
    "    display(df8.tail(5))\n",
    "\n",
    "df8.to_csv('/Users/kritya/Desktop/College/SEM 7/Project Phase 1/DS/FYP - FlipBook8.csv')"
   ]
  },
  {
   "cell_type": "code",
   "execution_count": null,
   "metadata": {},
   "outputs": [],
   "source": []
  },
  {
   "cell_type": "code",
   "execution_count": null,
   "metadata": {},
   "outputs": [],
   "source": []
  },
  {
   "cell_type": "code",
   "execution_count": null,
   "metadata": {},
   "outputs": [],
   "source": []
  },
  {
   "cell_type": "code",
   "execution_count": null,
   "metadata": {},
   "outputs": [],
   "source": []
  },
  {
   "cell_type": "code",
   "execution_count": null,
   "metadata": {},
   "outputs": [],
   "source": []
  }
 ],
 "metadata": {
  "kernelspec": {
   "display_name": "Python 3",
   "language": "python",
   "name": "python3"
  },
  "language_info": {
   "codemirror_mode": {
    "name": "ipython",
    "version": 3
   },
   "file_extension": ".py",
   "mimetype": "text/x-python",
   "name": "python",
   "nbconvert_exporter": "python",
   "pygments_lexer": "ipython3",
   "version": "3.8.5"
  }
 },
 "nbformat": 4,
 "nbformat_minor": 4
}
